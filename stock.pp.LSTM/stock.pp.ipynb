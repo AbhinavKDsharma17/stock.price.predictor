{
 "cells": [
  {
   "cell_type": "markdown",
   "id": "877c6e1b",
   "metadata": {},
   "source": [
    "# LSTM Neural Network for Stock Price Prediction"
   ]
  },
  {
   "cell_type": "markdown",
   "id": "b71f95a7",
   "metadata": {},
   "source": [
    "A recurrent neural network (RNN) is a type of artificial neural network which uses sequential data or time series data. They are distinguished by their “memory” as they take information from prior inputs to influence the current input and output. While traditional deep neural networks assume that inputs and outputs are independent of each other, the output of recurrent neural networks depend on the prior elements within the sequence.\n",
    "\n",
    "When we observe stock price-volume data, it is also a form of sequential/time series data. It is more than likely that the stock price on a given day will be influenced by the trends/patterns seen in the price on the preceding days. One can take advantage of deep learning techniques like RNNs to learn these patterns/trends in the data and make predictions on the stock price.\n",
    "\n",
    "LSTM (Long Short-Term Memory) is a type of RNN architecture which allows information to persist and can identify long-term dependencies. This type of network may be better suited for forecasting time series data such as stock prices as it can learn relatively long-term trends in the data and produce more accurate predictions on the future prices."
   ]
  },
  {
   "cell_type": "markdown",
   "id": "b6cbea21",
   "metadata": {},
   "source": [
    "## Dataset"
   ]
  },
  {
   "cell_type": "code",
   "execution_count": 1,
   "id": "ff3ece6e",
   "metadata": {},
   "outputs": [],
   "source": [
    "import numpy as np\n",
    "import pandas as pd\n",
    "import yfinance as yf\n",
    "import matplotlib.pyplot as plt\n",
    "import seaborn as sns\n",
    "sns.set(style = \"whitegrid\")"
   ]
  },
  {
   "cell_type": "code",
   "execution_count": 2,
   "id": "dbee8922",
   "metadata": {},
   "outputs": [],
   "source": [
    "start_date = \"2013-12-31\"\n",
    "end_date = \"2023-12-31\"\n"
   ]
  },
  {
   "cell_type": "markdown",
   "id": "48b8a001",
   "metadata": {},
   "source": [
    "We will be using stock-price data over a duration of 10 years as markets are cyclical in nature and usually repeat their behaviour every 10 years"
   ]
  },
  {
   "cell_type": "code",
   "execution_count": 3,
   "id": "4ee92dd6",
   "metadata": {},
   "outputs": [
    {
     "data": {
      "text/html": [
       "<div>\n",
       "<style scoped>\n",
       "    .dataframe tbody tr th:only-of-type {\n",
       "        vertical-align: middle;\n",
       "    }\n",
       "\n",
       "    .dataframe tbody tr th {\n",
       "        vertical-align: top;\n",
       "    }\n",
       "\n",
       "    .dataframe thead th {\n",
       "        text-align: right;\n",
       "    }\n",
       "</style>\n",
       "<table border=\"1\" class=\"dataframe\">\n",
       "  <thead>\n",
       "    <tr style=\"text-align: right;\">\n",
       "      <th></th>\n",
       "      <th>High</th>\n",
       "      <th>Low</th>\n",
       "      <th>Close</th>\n",
       "      <th>Volume</th>\n",
       "    </tr>\n",
       "    <tr>\n",
       "      <th>Date</th>\n",
       "      <th></th>\n",
       "      <th></th>\n",
       "      <th></th>\n",
       "      <th></th>\n",
       "    </tr>\n",
       "  </thead>\n",
       "  <tbody>\n",
       "    <tr>\n",
       "      <th>2013-12-31 00:00:00-05:00</th>\n",
       "      <td>63.746341</td>\n",
       "      <td>63.326050</td>\n",
       "      <td>63.600857</td>\n",
       "      <td>3859100</td>\n",
       "    </tr>\n",
       "    <tr>\n",
       "      <th>2014-01-02 00:00:00-05:00</th>\n",
       "      <td>64.231279</td>\n",
       "      <td>63.447280</td>\n",
       "      <td>63.778664</td>\n",
       "      <td>6878000</td>\n",
       "    </tr>\n",
       "    <tr>\n",
       "      <th>2014-01-03 00:00:00-05:00</th>\n",
       "      <td>63.956459</td>\n",
       "      <td>63.463428</td>\n",
       "      <td>63.568504</td>\n",
       "      <td>4957400</td>\n",
       "    </tr>\n",
       "    <tr>\n",
       "      <th>2014-01-06 00:00:00-05:00</th>\n",
       "      <td>63.778647</td>\n",
       "      <td>62.873410</td>\n",
       "      <td>63.212872</td>\n",
       "      <td>7280200</td>\n",
       "    </tr>\n",
       "    <tr>\n",
       "      <th>2014-01-07 00:00:00-05:00</th>\n",
       "      <td>63.730141</td>\n",
       "      <td>62.978472</td>\n",
       "      <td>63.406841</td>\n",
       "      <td>5012300</td>\n",
       "    </tr>\n",
       "  </tbody>\n",
       "</table>\n",
       "</div>"
      ],
      "text/plain": [
       "                                High        Low      Close   Volume\n",
       "Date                                                               \n",
       "2013-12-31 00:00:00-05:00  63.746341  63.326050  63.600857  3859100\n",
       "2014-01-02 00:00:00-05:00  64.231279  63.447280  63.778664  6878000\n",
       "2014-01-03 00:00:00-05:00  63.956459  63.463428  63.568504  4957400\n",
       "2014-01-06 00:00:00-05:00  63.778647  62.873410  63.212872  7280200\n",
       "2014-01-07 00:00:00-05:00  63.730141  62.978472  63.406841  5012300"
      ]
     },
     "execution_count": 3,
     "metadata": {},
     "output_type": "execute_result"
    }
   ],
   "source": [
    "data = {}\n",
    "\n",
    "ticker = yf.Ticker(\"WMT\")\n",
    "\n",
    "data['High'] = ticker.history(start = start_date, end = end_date)['High']\n",
    "data['Low'] = ticker.history(start = start_date, end = end_date)['Low']\n",
    "data['Close'] = ticker.history(start = start_date, end = end_date)['Close']\n",
    "data['Volume'] = ticker.history(start = start_date, end = end_date)['Volume']\n",
    "\n",
    "data = pd.DataFrame(data)\n",
    "\n",
    "data.head()"
   ]
  },
  {
   "cell_type": "markdown",
   "id": "85d539c2",
   "metadata": {},
   "source": [
    "## Technical Indicators"
   ]
  },
  {
   "cell_type": "markdown",
   "id": "8da57c5e",
   "metadata": {},
   "source": [
    "Technical indicators are heuristic or pattern-based signals produced by the price, volume, and/or open interest of a security. Technical indicators can be used to predict future price movements of a security and identify possible trends. These indicators can broadly be categorised into two types:\n",
    "\n",
    "Lagging Indicators\n",
    "\n",
    "These indicators provide delayed feedback i.e they give a signal once the price movement has already passed or is in progress. Lagging indicators can be used to confirm a price trend which has already initiated.\n",
    "\n",
    "Leading Indicators\n",
    "\n",
    "These indicators are used to predict the future direction of a price movement. Leading indicators are used to identify potential trends in the future and enter the market accordingly.\n",
    "\n",
    "For the purpose of this model, a combination of both leading as well as lagging technical indicators will be fed into the network in order to follow price trends once they are in place as well as predict future trends and forecast the price accurately.\n",
    "\n",
    "1) Relative Strength Index (RSI)\n",
    "\n",
    "2) Williams %R (WPR)\n",
    "\n",
    "3) Volume Weighted Average Price (VWAP)\n",
    "\n",
    "4) Moving Average Convergence-Divergence (MACD)"
   ]
  },
  {
   "cell_type": "code",
   "execution_count": 4,
   "id": "59970753",
   "metadata": {},
   "outputs": [],
   "source": [
    "import pandas_ta as ta"
   ]
  },
  {
   "cell_type": "code",
   "execution_count": 5,
   "id": "52a48296",
   "metadata": {},
   "outputs": [
    {
     "name": "stderr",
     "output_type": "stream",
     "text": [
      "/var/folders/xm/_6m30k1j1kbgb2ps1nz6t4d00000gn/T/ipykernel_87105/2209731584.py:3: UserWarning: Converting to PeriodArray/Index representation will drop timezone information.\n",
      "  data['VWAP'] = ta.vwap(data.High, data.Low, data.Close, data.Volume, length = 14)\n"
     ]
    }
   ],
   "source": [
    "data['RSI'] = ta.rsi(data.Close, length = 14)\n",
    "data['WPR'] = ta.willr(data.High, data.Low, data.Close, length = 14)\n",
    "data['VWAP'] = ta.vwap(data.High, data.Low, data.Close, data.Volume, length = 14)\n",
    "data['MACD'] = ta.ema(data.Close, length = 12) - ta.ema(data.Close, length = 26)"
   ]
  },
  {
   "cell_type": "markdown",
   "id": "cc737633",
   "metadata": {},
   "source": [
    "Creating buy/sell trading signals using the indicator data to feed into the network for predicting the future stock price movement:"
   ]
  },
  {
   "cell_type": "code",
   "execution_count": 6,
   "id": "488a6fab",
   "metadata": {},
   "outputs": [],
   "source": [
    "rsi_signal = []\n",
    "for rsi in data['RSI']:\n",
    "  if rsi > 70:\n",
    "    rsi_signal.append(-1)\n",
    "  elif rsi < 30:\n",
    "    rsi_signal.append(1)\n",
    "  else:\n",
    "    rsi_signal.append(0)\n",
    "\n",
    "data['RSI_signal'] = rsi_signal\n",
    "\n",
    "wpr_signal = []\n",
    "for wpr in data['WPR']:\n",
    "  if wpr > -20:\n",
    "    wpr_signal.append(-1)\n",
    "  elif wpr < -80:\n",
    "    wpr_signal.append(1)\n",
    "  else:\n",
    "    wpr_signal.append(0)\n",
    "\n",
    "data['WPR_signal'] = wpr_signal"
   ]
  },
  {
   "cell_type": "markdown",
   "id": "1e7beb8b",
   "metadata": {},
   "source": [
    "## Target Variable"
   ]
  },
  {
   "cell_type": "markdown",
   "id": "647c0f24",
   "metadata": {},
   "source": [
    "For the purpose of this model, we will be predicting the next day stock price on the basis of data fed in from the previous 14 days. The target variable will be defined as the \"Close\" stock price for the next day."
   ]
  },
  {
   "cell_type": "code",
   "execution_count": 7,
   "id": "2208cfc4",
   "metadata": {},
   "outputs": [
    {
     "data": {
      "text/html": [
       "<div>\n",
       "<style scoped>\n",
       "    .dataframe tbody tr th:only-of-type {\n",
       "        vertical-align: middle;\n",
       "    }\n",
       "\n",
       "    .dataframe tbody tr th {\n",
       "        vertical-align: top;\n",
       "    }\n",
       "\n",
       "    .dataframe thead th {\n",
       "        text-align: right;\n",
       "    }\n",
       "</style>\n",
       "<table border=\"1\" class=\"dataframe\">\n",
       "  <thead>\n",
       "    <tr style=\"text-align: right;\">\n",
       "      <th></th>\n",
       "      <th>Date</th>\n",
       "      <th>High</th>\n",
       "      <th>Low</th>\n",
       "      <th>Close</th>\n",
       "      <th>Volume</th>\n",
       "      <th>RSI</th>\n",
       "      <th>WPR</th>\n",
       "      <th>VWAP</th>\n",
       "      <th>MACD</th>\n",
       "      <th>RSI_signal</th>\n",
       "      <th>WPR_signal</th>\n",
       "      <th>TargetNextClose</th>\n",
       "    </tr>\n",
       "  </thead>\n",
       "  <tbody>\n",
       "    <tr>\n",
       "      <th>0</th>\n",
       "      <td>2014-02-06 00:00:00-05:00</td>\n",
       "      <td>59.171649</td>\n",
       "      <td>58.597796</td>\n",
       "      <td>58.856434</td>\n",
       "      <td>7353100</td>\n",
       "      <td>23.115330</td>\n",
       "      <td>-87.912242</td>\n",
       "      <td>58.875293</td>\n",
       "      <td>-1.566623</td>\n",
       "      <td>1</td>\n",
       "      <td>1</td>\n",
       "      <td>59.608131</td>\n",
       "    </tr>\n",
       "    <tr>\n",
       "      <th>1</th>\n",
       "      <td>2014-02-07 00:00:00-05:00</td>\n",
       "      <td>59.648546</td>\n",
       "      <td>58.597824</td>\n",
       "      <td>59.608131</td>\n",
       "      <td>7287600</td>\n",
       "      <td>35.182350</td>\n",
       "      <td>-64.077187</td>\n",
       "      <td>59.284834</td>\n",
       "      <td>-1.472979</td>\n",
       "      <td>0</td>\n",
       "      <td>0</td>\n",
       "      <td>59.616199</td>\n",
       "    </tr>\n",
       "    <tr>\n",
       "      <th>2</th>\n",
       "      <td>2014-02-10 00:00:00-05:00</td>\n",
       "      <td>59.616199</td>\n",
       "      <td>58.969601</td>\n",
       "      <td>59.616199</td>\n",
       "      <td>6204100</td>\n",
       "      <td>35.299726</td>\n",
       "      <td>-60.891953</td>\n",
       "      <td>59.400667</td>\n",
       "      <td>-1.382181</td>\n",
       "      <td>0</td>\n",
       "      <td>0</td>\n",
       "      <td>60.456772</td>\n",
       "    </tr>\n",
       "    <tr>\n",
       "      <th>3</th>\n",
       "      <td>2014-02-11 00:00:00-05:00</td>\n",
       "      <td>60.497180</td>\n",
       "      <td>59.543450</td>\n",
       "      <td>60.456772</td>\n",
       "      <td>6511200</td>\n",
       "      <td>46.225472</td>\n",
       "      <td>-19.169596</td>\n",
       "      <td>60.165801</td>\n",
       "      <td>-1.228238</td>\n",
       "      <td>0</td>\n",
       "      <td>-1</td>\n",
       "      <td>60.586094</td>\n",
       "    </tr>\n",
       "    <tr>\n",
       "      <th>4</th>\n",
       "      <td>2014-02-12 00:00:00-05:00</td>\n",
       "      <td>60.763909</td>\n",
       "      <td>59.987994</td>\n",
       "      <td>60.586094</td>\n",
       "      <td>5339800</td>\n",
       "      <td>47.689063</td>\n",
       "      <td>-14.057704</td>\n",
       "      <td>60.445999</td>\n",
       "      <td>-1.083313</td>\n",
       "      <td>0</td>\n",
       "      <td>-1</td>\n",
       "      <td>60.909378</td>\n",
       "    </tr>\n",
       "  </tbody>\n",
       "</table>\n",
       "</div>"
      ],
      "text/plain": [
       "                       Date       High        Low      Close   Volume  \\\n",
       "0 2014-02-06 00:00:00-05:00  59.171649  58.597796  58.856434  7353100   \n",
       "1 2014-02-07 00:00:00-05:00  59.648546  58.597824  59.608131  7287600   \n",
       "2 2014-02-10 00:00:00-05:00  59.616199  58.969601  59.616199  6204100   \n",
       "3 2014-02-11 00:00:00-05:00  60.497180  59.543450  60.456772  6511200   \n",
       "4 2014-02-12 00:00:00-05:00  60.763909  59.987994  60.586094  5339800   \n",
       "\n",
       "         RSI        WPR       VWAP      MACD  RSI_signal  WPR_signal  \\\n",
       "0  23.115330 -87.912242  58.875293 -1.566623           1           1   \n",
       "1  35.182350 -64.077187  59.284834 -1.472979           0           0   \n",
       "2  35.299726 -60.891953  59.400667 -1.382181           0           0   \n",
       "3  46.225472 -19.169596  60.165801 -1.228238           0          -1   \n",
       "4  47.689063 -14.057704  60.445999 -1.083313           0          -1   \n",
       "\n",
       "   TargetNextClose  \n",
       "0        59.608131  \n",
       "1        59.616199  \n",
       "2        60.456772  \n",
       "3        60.586094  \n",
       "4        60.909378  "
      ]
     },
     "execution_count": 7,
     "metadata": {},
     "output_type": "execute_result"
    }
   ],
   "source": [
    "data['TargetNextClose'] = data['Close'].shift(-1)\n",
    "data.dropna(inplace = True)\n",
    "data.reset_index(inplace = True)\n",
    "\n",
    "data.head()"
   ]
  },
  {
   "cell_type": "code",
   "execution_count": 8,
   "id": "eb9c7fed",
   "metadata": {},
   "outputs": [
    {
     "data": {
      "text/html": [
       "<div>\n",
       "<style scoped>\n",
       "    .dataframe tbody tr th:only-of-type {\n",
       "        vertical-align: middle;\n",
       "    }\n",
       "\n",
       "    .dataframe tbody tr th {\n",
       "        vertical-align: top;\n",
       "    }\n",
       "\n",
       "    .dataframe thead th {\n",
       "        text-align: right;\n",
       "    }\n",
       "</style>\n",
       "<table border=\"1\" class=\"dataframe\">\n",
       "  <thead>\n",
       "    <tr style=\"text-align: right;\">\n",
       "      <th></th>\n",
       "      <th>High</th>\n",
       "      <th>Low</th>\n",
       "      <th>Close</th>\n",
       "      <th>Volume</th>\n",
       "      <th>RSI</th>\n",
       "      <th>WPR</th>\n",
       "      <th>VWAP</th>\n",
       "      <th>MACD</th>\n",
       "      <th>RSI_signal</th>\n",
       "      <th>WPR_signal</th>\n",
       "      <th>TargetNextClose</th>\n",
       "    </tr>\n",
       "  </thead>\n",
       "  <tbody>\n",
       "    <tr>\n",
       "      <th>0</th>\n",
       "      <td>59.171649</td>\n",
       "      <td>58.597796</td>\n",
       "      <td>58.856434</td>\n",
       "      <td>7353100</td>\n",
       "      <td>23.115330</td>\n",
       "      <td>-87.912242</td>\n",
       "      <td>58.875293</td>\n",
       "      <td>-1.566623</td>\n",
       "      <td>1</td>\n",
       "      <td>1</td>\n",
       "      <td>59.608131</td>\n",
       "    </tr>\n",
       "    <tr>\n",
       "      <th>1</th>\n",
       "      <td>59.648546</td>\n",
       "      <td>58.597824</td>\n",
       "      <td>59.608131</td>\n",
       "      <td>7287600</td>\n",
       "      <td>35.182350</td>\n",
       "      <td>-64.077187</td>\n",
       "      <td>59.284834</td>\n",
       "      <td>-1.472979</td>\n",
       "      <td>0</td>\n",
       "      <td>0</td>\n",
       "      <td>59.616199</td>\n",
       "    </tr>\n",
       "    <tr>\n",
       "      <th>2</th>\n",
       "      <td>59.616199</td>\n",
       "      <td>58.969601</td>\n",
       "      <td>59.616199</td>\n",
       "      <td>6204100</td>\n",
       "      <td>35.299726</td>\n",
       "      <td>-60.891953</td>\n",
       "      <td>59.400667</td>\n",
       "      <td>-1.382181</td>\n",
       "      <td>0</td>\n",
       "      <td>0</td>\n",
       "      <td>60.456772</td>\n",
       "    </tr>\n",
       "    <tr>\n",
       "      <th>3</th>\n",
       "      <td>60.497180</td>\n",
       "      <td>59.543450</td>\n",
       "      <td>60.456772</td>\n",
       "      <td>6511200</td>\n",
       "      <td>46.225472</td>\n",
       "      <td>-19.169596</td>\n",
       "      <td>60.165801</td>\n",
       "      <td>-1.228238</td>\n",
       "      <td>0</td>\n",
       "      <td>-1</td>\n",
       "      <td>60.586094</td>\n",
       "    </tr>\n",
       "    <tr>\n",
       "      <th>4</th>\n",
       "      <td>60.763909</td>\n",
       "      <td>59.987994</td>\n",
       "      <td>60.586094</td>\n",
       "      <td>5339800</td>\n",
       "      <td>47.689063</td>\n",
       "      <td>-14.057704</td>\n",
       "      <td>60.445999</td>\n",
       "      <td>-1.083313</td>\n",
       "      <td>0</td>\n",
       "      <td>-1</td>\n",
       "      <td>60.909378</td>\n",
       "    </tr>\n",
       "  </tbody>\n",
       "</table>\n",
       "</div>"
      ],
      "text/plain": [
       "        High        Low      Close   Volume        RSI        WPR       VWAP  \\\n",
       "0  59.171649  58.597796  58.856434  7353100  23.115330 -87.912242  58.875293   \n",
       "1  59.648546  58.597824  59.608131  7287600  35.182350 -64.077187  59.284834   \n",
       "2  59.616199  58.969601  59.616199  6204100  35.299726 -60.891953  59.400667   \n",
       "3  60.497180  59.543450  60.456772  6511200  46.225472 -19.169596  60.165801   \n",
       "4  60.763909  59.987994  60.586094  5339800  47.689063 -14.057704  60.445999   \n",
       "\n",
       "       MACD  RSI_signal  WPR_signal  TargetNextClose  \n",
       "0 -1.566623           1           1        59.608131  \n",
       "1 -1.472979           0           0        59.616199  \n",
       "2 -1.382181           0           0        60.456772  \n",
       "3 -1.228238           0          -1        60.586094  \n",
       "4 -1.083313           0          -1        60.909378  "
      ]
     },
     "execution_count": 8,
     "metadata": {},
     "output_type": "execute_result"
    }
   ],
   "source": [
    "data_set = data.iloc[:, 1:12]\n",
    "\n",
    "pd.set_option('display.max_columns', None)\n",
    "\n",
    "data_set.head()"
   ]
  },
  {
   "cell_type": "markdown",
   "id": "7827bd6a",
   "metadata": {},
   "source": [
    "## Feature Scaling"
   ]
  },
  {
   "cell_type": "markdown",
   "id": "e90280e3",
   "metadata": {},
   "source": [
    "Since the model will be using a variety of data having different magnitude and scale, all the input variables will be normalised into a range of 0 to 1. This will assist the deep learning model during training as the gradient descent step will be faster. It will also help ensure that the training process does not fail due to problems such as exploding gradient."
   ]
  },
  {
   "cell_type": "code",
   "execution_count": 9,
   "id": "6be7f72a",
   "metadata": {},
   "outputs": [],
   "source": [
    "from sklearn.preprocessing import MinMaxScaler\n",
    "scaler_feature_train = MinMaxScaler(feature_range = (0, 1))\n",
    "scaler_feature_test = MinMaxScaler(feature_range = (0, 1))\n",
    "scaler_target_train = MinMaxScaler(feature_range = (0, 1))\n",
    "scaler_target_test = MinMaxScaler(feature_range = (0, 1))\n",
    "\n",
    "feature_set = data_set.drop(['TargetNextClose'], axis = 1)\n",
    "\n",
    "target_set = np.array(data_set['TargetNextClose']).reshape(-1, 1)"
   ]
  },
  {
   "cell_type": "code",
   "execution_count": 10,
   "id": "073a71ec",
   "metadata": {},
   "outputs": [],
   "source": [
    "splitlimit = int(len(feature_set) * 0.8)\n",
    "\n",
    "feature_set_train, feature_set_test = feature_set[:splitlimit], feature_set[splitlimit:]\n",
    "feature_set_train_scaled = scaler_feature_train.fit_transform(feature_set_train)\n",
    "feature_set_test_scaled = scaler_feature_test.fit_transform(feature_set_test)\n",
    "\n",
    "target_set_train, target_set_test = target_set[:splitlimit], target_set[splitlimit:]\n",
    "target_set_train_scaled = scaler_target_train.fit_transform(target_set_train)\n",
    "target_set_test_scaled = scaler_target_test.fit_transform(target_set_test)"
   ]
  },
  {
   "cell_type": "markdown",
   "id": "1c358774",
   "metadata": {},
   "source": [
    "## Constructing the dataset\n",
    "\n"
   ]
  },
  {
   "cell_type": "markdown",
   "id": "bceba65e",
   "metadata": {},
   "source": [
    "Input data to the network will be a series of dataframes having the feature data over a lookback period of 14 days. The lookback window will roll over the entire data time period and will be used to predict the Close price of the next day."
   ]
  },
  {
   "cell_type": "code",
   "execution_count": 11,
   "id": "4c751897",
   "metadata": {},
   "outputs": [
    {
     "name": "stdout",
     "output_type": "stream",
     "text": [
      "(1978, 14, 10)\n",
      "(485, 14, 10)\n",
      "(1978, 1)\n",
      "(485, 1)\n"
     ]
    }
   ],
   "source": [
    "X_train = []\n",
    "\n",
    "backcandles = 14\n",
    "features = 10\n",
    "\n",
    "for i in range(features):\n",
    "    X_train.append([])\n",
    "\n",
    "    for j in range(backcandles, feature_set_train_scaled.shape[0]):\n",
    "        X_train[i].append(feature_set_train_scaled[j-backcandles: j, i])\n",
    "\n",
    "X_train = np.moveaxis(X_train, [0], [2])\n",
    "\n",
    "X_test = []\n",
    "\n",
    "for i in range(features):\n",
    "    X_test.append([])\n",
    "\n",
    "    for j in range(backcandles, feature_set_test_scaled.shape[0]):\n",
    "        X_test[i].append(feature_set_test_scaled[j-backcandles: j, i])\n",
    "\n",
    "X_test = np.moveaxis(X_test, [0], [2])\n",
    "\n",
    "X_train, X_test = np.array(X_train), np.array(X_test)\n",
    "Yi, Yj = np.array(target_set_train_scaled[backcandles:]), np.array(target_set_test_scaled[backcandles:]),\n",
    "Y_train, Y_test = np.reshape(Yi, (len(Yi), 1)), np.reshape(Yj, (len(Yj), 1))\n",
    "\n",
    "print(X_train.shape)\n",
    "print(X_test.shape)\n",
    "print(Y_train.shape)\n",
    "print(Y_test.shape)"
   ]
  },
  {
   "cell_type": "markdown",
   "id": "8750c108",
   "metadata": {},
   "source": [
    "## Building and training the LSTM neural network"
   ]
  },
  {
   "cell_type": "code",
   "execution_count": 12,
   "id": "19b3f735",
   "metadata": {
    "scrolled": true
   },
   "outputs": [
    {
     "name": "stderr",
     "output_type": "stream",
     "text": [
      "WARNING:absl:At this time, the v2.11+ optimizer `tf.keras.optimizers.Adam` runs slowly on M1/M2 Macs, please use the legacy Keras optimizer instead, located at `tf.keras.optimizers.legacy.Adam`.\n",
      "WARNING:absl:There is a known slowdown when using v2.11+ Keras optimizers on M1/M2 Macs. Falling back to the legacy Keras optimizer, i.e., `tf.keras.optimizers.legacy.Adam`.\n"
     ]
    },
    {
     "name": "stdout",
     "output_type": "stream",
     "text": [
      "Epoch 1/20\n",
      "80/80 [==============================] - 2s 13ms/step - loss: 0.0670 - mae: 0.0710 - val_loss: 0.0475 - val_mae: 0.0573\n",
      "Epoch 2/20\n",
      "80/80 [==============================] - 1s 9ms/step - loss: 0.0362 - mae: 0.0453 - val_loss: 0.0330 - val_mae: 0.0719\n",
      "Epoch 3/20\n",
      "80/80 [==============================] - 1s 9ms/step - loss: 0.0245 - mae: 0.0475 - val_loss: 0.0228 - val_mae: 0.0578\n",
      "Epoch 4/20\n",
      "80/80 [==============================] - 1s 9ms/step - loss: 0.0175 - mae: 0.0451 - val_loss: 0.0167 - val_mae: 0.0511\n",
      "Epoch 5/20\n",
      "80/80 [==============================] - 1s 9ms/step - loss: 0.0126 - mae: 0.0380 - val_loss: 0.0148 - val_mae: 0.0614\n",
      "Epoch 6/20\n",
      "80/80 [==============================] - 1s 9ms/step - loss: 0.0100 - mae: 0.0380 - val_loss: 0.0137 - val_mae: 0.0671\n",
      "Epoch 7/20\n",
      "80/80 [==============================] - 1s 9ms/step - loss: 0.0085 - mae: 0.0385 - val_loss: 0.0104 - val_mae: 0.0517\n",
      "Epoch 8/20\n",
      "80/80 [==============================] - 1s 9ms/step - loss: 0.0070 - mae: 0.0376 - val_loss: 0.0094 - val_mae: 0.0522\n",
      "Epoch 9/20\n",
      "80/80 [==============================] - 1s 9ms/step - loss: 0.0058 - mae: 0.0349 - val_loss: 0.0091 - val_mae: 0.0547\n",
      "Epoch 10/20\n",
      "80/80 [==============================] - 1s 9ms/step - loss: 0.0053 - mae: 0.0367 - val_loss: 0.0086 - val_mae: 0.0576\n",
      "Epoch 11/20\n",
      "80/80 [==============================] - 1s 9ms/step - loss: 0.0045 - mae: 0.0345 - val_loss: 0.0074 - val_mae: 0.0514\n",
      "Epoch 12/20\n",
      "80/80 [==============================] - 1s 9ms/step - loss: 0.0046 - mae: 0.0367 - val_loss: 0.0075 - val_mae: 0.0546\n",
      "Epoch 13/20\n",
      "80/80 [==============================] - 1s 9ms/step - loss: 0.0039 - mae: 0.0338 - val_loss: 0.0073 - val_mae: 0.0526\n",
      "Epoch 14/20\n",
      "80/80 [==============================] - 1s 9ms/step - loss: 0.0033 - mae: 0.0320 - val_loss: 0.0072 - val_mae: 0.0536\n",
      "Epoch 15/20\n",
      "80/80 [==============================] - 1s 9ms/step - loss: 0.0033 - mae: 0.0333 - val_loss: 0.0079 - val_mae: 0.0595\n",
      "Epoch 16/20\n",
      "80/80 [==============================] - 1s 9ms/step - loss: 0.0031 - mae: 0.0327 - val_loss: 0.0066 - val_mae: 0.0511\n",
      "Epoch 17/20\n",
      "80/80 [==============================] - 1s 9ms/step - loss: 0.0032 - mae: 0.0328 - val_loss: 0.0076 - val_mae: 0.0586\n",
      "Epoch 18/20\n",
      "80/80 [==============================] - 1s 10ms/step - loss: 0.0030 - mae: 0.0327 - val_loss: 0.0086 - val_mae: 0.0665\n",
      "Epoch 19/20\n",
      "80/80 [==============================] - 1s 9ms/step - loss: 0.0028 - mae: 0.0331 - val_loss: 0.0061 - val_mae: 0.0500\n",
      "Epoch 20/20\n",
      "80/80 [==============================] - 1s 9ms/step - loss: 0.0025 - mae: 0.0304 - val_loss: 0.0060 - val_mae: 0.0512\n",
      "16/16 [==============================] - 0s 3ms/step - loss: 0.0060 - mae: 0.0512\n",
      "Test Loss: 0.005977635737508535, Test MAE: 0.05115751177072525\n"
     ]
    }
   ],
   "source": [
    "# Define your model\n",
    "import tensorflow as tf\n",
    "from tensorflow import keras\n",
    "\n",
    "# Define your model\n",
    "lstm_input = keras.layers.Input(shape=(backcandles, features), name='lstm_input')\n",
    "lstm1 = keras.layers.LSTM(100, return_sequences=True, name='firstLSTM_layer')(lstm_input)\n",
    "lstm2 = keras.layers.LSTM(75, name='secondLSTM_layer')(lstm1)\n",
    "dense = keras.layers.Dense(64, activation='relu', kernel_regularizer=keras.regularizers.l2(0.001))(lstm2)\n",
    "dropout = keras.layers.Dropout(0.2)(dense)\n",
    "out = keras.layers.Dense(1, name='output')(dropout)\n",
    "\n",
    "model = keras.models.Model(inputs=lstm_input, outputs=out)\n",
    "\n",
    "# Compile the model with learning rate scheduling\n",
    "initial_learning_rate = 0.001\n",
    "lr_schedule = keras.optimizers.schedules.ExponentialDecay(\n",
    "    initial_learning_rate, decay_steps=1000, decay_rate=0.9, staircase=True\n",
    ")\n",
    "adam = keras.optimizers.Adam(learning_rate=lr_schedule)\n",
    "\n",
    "model.compile(optimizer=adam, loss='mse', metrics=['mae'])\n",
    "\n",
    "# Train the model with early stopping\n",
    "early_stopping = keras.callbacks.EarlyStopping(patience=10, restore_best_weights=True)\n",
    "\n",
    "model.fit(x=X_train, y=Y_train, batch_size=25, epochs=20, shuffle=True, validation_data=(X_test, Y_test), callbacks=[early_stopping])\n",
    "\n",
    "# Evaluate the model on test data\n",
    "loss, mae = model.evaluate(x=X_test, y=Y_test)\n",
    "print(f\"Test Loss: {loss}, Test MAE: {mae}\")\n",
    "\n",
    "\n",
    "\n"
   ]
  },
  {
   "cell_type": "code",
   "execution_count": 13,
   "id": "a8a16856",
   "metadata": {
    "scrolled": true
   },
   "outputs": [
    {
     "name": "stdout",
     "output_type": "stream",
     "text": [
      "Model: \"model\"\n",
      "_________________________________________________________________\n",
      " Layer (type)                Output Shape              Param #   \n",
      "=================================================================\n",
      " lstm_input (InputLayer)     [(None, 14, 10)]          0         \n",
      "                                                                 \n",
      " firstLSTM_layer (LSTM)      (None, 14, 100)           44400     \n",
      "                                                                 \n",
      " secondLSTM_layer (LSTM)     (None, 75)                52800     \n",
      "                                                                 \n",
      " dense (Dense)               (None, 64)                4864      \n",
      "                                                                 \n",
      " dropout (Dropout)           (None, 64)                0         \n",
      "                                                                 \n",
      " output (Dense)              (None, 1)                 65        \n",
      "                                                                 \n",
      "=================================================================\n",
      "Total params: 102129 (398.94 KB)\n",
      "Trainable params: 102129 (398.94 KB)\n",
      "Non-trainable params: 0 (0.00 Byte)\n",
      "_________________________________________________________________\n"
     ]
    }
   ],
   "source": [
    "model.summary()"
   ]
  },
  {
   "cell_type": "markdown",
   "id": "085b0fa0",
   "metadata": {},
   "source": [
    "## Test Data Predictions"
   ]
  },
  {
   "cell_type": "code",
   "execution_count": 14,
   "id": "6c2aa3e9",
   "metadata": {
    "scrolled": true
   },
   "outputs": [
    {
     "name": "stdout",
     "output_type": "stream",
     "text": [
      "16/16 [==============================] - 0s 2ms/step\n"
     ]
    }
   ],
   "source": [
    "Y_pred = model.predict(X_test)"
   ]
  },
  {
   "cell_type": "markdown",
   "id": "e52c2a9f",
   "metadata": {},
   "source": [
    "## Predicted price vs Actual price"
   ]
  },
  {
   "cell_type": "code",
   "execution_count": 15,
   "id": "123f4c26",
   "metadata": {
    "scrolled": false
   },
   "outputs": [
    {
     "data": {
      "image/png": "[encoded data removed]",
      "text/plain": [
       "<Figure size 1000x600 with 1 Axes>"
      ]
     },
     "metadata": {},
     "output_type": "display_data"
    }
   ],
   "source": [
    "import matplotlib.pyplot as plt\n",
    "\n",
    "# Inverse transform the scaled predictions to the original scale\n",
    "Y_test_prices = scaler_target_test.inverse_transform(Y_test)\n",
    "Y_pred_prices = scaler_target_test.inverse_transform(Y_pred)\n",
    "\n",
    "# Plot the actual and predicted stock prices\n",
    "plt.figure(figsize=(10, 6))\n",
    "plt.plot(Y_test_prices, color='black', label='Actual price')\n",
    "plt.plot(Y_pred_prices, color='green', label='Predicted price')\n",
    "plt.legend()\n",
    "plt.show()"
   ]
  },
  {
   "cell_type": "markdown",
   "id": "d790fac2",
   "metadata": {},
   "source": [
    "## Evaluation Metrics"
   ]
  },
  {
   "cell_type": "markdown",
   "id": "a03471f6",
   "metadata": {},
   "source": [
    "Following evaluation metrics are used to analyse the performance of the model:\n",
    "\n",
    "1) Correlation\n",
    "2) Cointegration test\n",
    "3) Root mean square error (RMSE)"
   ]
  },
  {
   "cell_type": "markdown",
   "id": "1d512bb4",
   "metadata": {},
   "source": [
    "## Root Mean Square Error (RMSE)"
   ]
  },
  {
   "cell_type": "markdown",
   "id": "7d6e7ff1",
   "metadata": {},
   "source": [
    "## 1) Correlation"
   ]
  },
  {
   "cell_type": "code",
   "execution_count": 16,
   "id": "efd6be24",
   "metadata": {},
   "outputs": [
    {
     "name": "stdout",
     "output_type": "stream",
     "text": [
      "Correlation between actual and predicted values: 0.9507612306753973\n"
     ]
    }
   ],
   "source": [
    "predicted_values = Y_pred.ravel()\n",
    "actual_values = Y_test.ravel()\n",
    "correlation = np.corrcoef(actual_values, predicted_values)[0, 1]\n",
    "print(\"Correlation between actual and predicted values:\", correlation)"
   ]
  },
  {
   "cell_type": "markdown",
   "id": "c39b7b08",
   "metadata": {},
   "source": [
    "## 2) Cointegration Test"
   ]
  },
  {
   "cell_type": "code",
   "execution_count": null,
   "id": "f221f7c7",
   "metadata": {},
   "outputs": [],
   "source": [
    "import numpy as np\n",
    "import statsmodels.tsa.stattools as ts\n",
    "\n",
    "# Performing the cointegration test\n",
    "coint_result = ts.coint(Y_test_prices[0], Y_pred_prices[0], trend='c') \n",
    "\n",
    "# Specifying the trend parameter as 'c' (constant) or 'ct' (constant and trend)\n",
    "p_val = coint_result[1]\n",
    "\n",
    "print(\"P-Value for the cointegration test:\")\n",
    "print(np.round(p_val, 1000))\n"
   ]
  },
  {
   "cell_type": "markdown",
   "id": "bba54a5b",
   "metadata": {},
   "source": [
    "The cointegration test results in a P-value which is practically 0 as \"float division by zero\" is coming. This indicates that the time series of the predicted prices and the actual prices are highly cointegration i.e they show a strong positive correlation over their duration"
   ]
  },
  {
   "cell_type": "markdown",
   "id": "1feae81d",
   "metadata": {},
   "source": [
    "## 3) Root Mean Square Error (RMSE)¶"
   ]
  },
  {
   "cell_type": "code",
   "execution_count": 19,
   "id": "3d54e39b",
   "metadata": {},
   "outputs": [
    {
     "name": "stdout",
     "output_type": "stream",
     "text": [
      "Root Mean Square Error (RMSE) = 4.3 %\n"
     ]
    }
   ],
   "source": [
    "rmse = np.round(np.sqrt(np.mean(((Y_test_prices[0] - Y_pred_prices[0])/Y_test_prices[0])**2)), 3)\n",
    "print(\"Root Mean Square Error (RMSE) =\", np.round(rmse*100, 3), \"%\")"
   ]
  }
 ],
 "metadata": {
  "kernelspec": {
   "display_name": "Python 3 (ipykernel)",
   "language": "python",
   "name": "python3"
  },
  "language_info": {
   "codemirror_mode": {
    "name": "ipython",
    "version": 3
   },
   "file_extension": ".py",
   "mimetype": "text/x-python",
   "name": "python",
   "nbconvert_exporter": "python",
   "pygments_lexer": "ipython3",
   "version": "3.10.13"
  }
 },
 "nbformat": 4,
 "nbformat_minor": 5
}
