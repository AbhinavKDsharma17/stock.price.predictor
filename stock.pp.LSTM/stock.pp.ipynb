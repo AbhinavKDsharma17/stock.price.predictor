{
 "cells": [
  {
   "cell_type": "code",
   "execution_count": 1,
   "id": "ff3ece6e",
   "metadata": {},
   "outputs": [],
   "source": [
    "import numpy as np\n",
    "import pandas as pd\n",
    "import yfinance as yf\n",
    "import matplotlib.pyplot as plt\n",
    "import seaborn as sns\n",
    "sns.set(style = \"whitegrid\")"
   ]
  },
  {
   "cell_type": "code",
   "execution_count": 2,
   "id": "dbee8922",
   "metadata": {},
   "outputs": [],
   "source": [
    "start_date = \"2013-12-31\"\n",
    "end_date = \"2023-12-31\"\n"
   ]
  },
  {
   "cell_type": "code",
   "execution_count": 3,
   "id": "4ee92dd6",
   "metadata": {},
   "outputs": [
    {
     "data": {
      "text/html": [
       "<div>\n",
       "<style scoped>\n",
       "    .dataframe tbody tr th:only-of-type {\n",
       "        vertical-align: middle;\n",
       "    }\n",
       "\n",
       "    .dataframe tbody tr th {\n",
       "        vertical-align: top;\n",
       "    }\n",
       "\n",
       "    .dataframe thead th {\n",
       "        text-align: right;\n",
       "    }\n",
       "</style>\n",
       "<table border=\"1\" class=\"dataframe\">\n",
       "  <thead>\n",
       "    <tr style=\"text-align: right;\">\n",
       "      <th></th>\n",
       "      <th>High</th>\n",
       "      <th>Low</th>\n",
       "      <th>Close</th>\n",
       "      <th>Volume</th>\n",
       "    </tr>\n",
       "    <tr>\n",
       "      <th>Date</th>\n",
       "      <th></th>\n",
       "      <th></th>\n",
       "      <th></th>\n",
       "      <th></th>\n",
       "    </tr>\n",
       "  </thead>\n",
       "  <tbody>\n",
       "    <tr>\n",
       "      <th>2013-12-31 00:00:00-05:00</th>\n",
       "      <td>63.983084</td>\n",
       "      <td>63.561235</td>\n",
       "      <td>63.837063</td>\n",
       "      <td>3859100</td>\n",
       "    </tr>\n",
       "    <tr>\n",
       "      <th>2014-01-02 00:00:00-05:00</th>\n",
       "      <td>64.469853</td>\n",
       "      <td>63.682942</td>\n",
       "      <td>64.015526</td>\n",
       "      <td>6878000</td>\n",
       "    </tr>\n",
       "    <tr>\n",
       "      <th>2014-01-03 00:00:00-05:00</th>\n",
       "      <td>64.194014</td>\n",
       "      <td>63.699157</td>\n",
       "      <td>63.804630</td>\n",
       "      <td>4957400</td>\n",
       "    </tr>\n",
       "    <tr>\n",
       "      <th>2014-01-06 00:00:00-05:00</th>\n",
       "      <td>64.015539</td>\n",
       "      <td>63.106944</td>\n",
       "      <td>63.447670</td>\n",
       "      <td>7280200</td>\n",
       "    </tr>\n",
       "    <tr>\n",
       "      <th>2014-01-07 00:00:00-05:00</th>\n",
       "      <td>63.966865</td>\n",
       "      <td>63.212397</td>\n",
       "      <td>63.642361</td>\n",
       "      <td>5012300</td>\n",
       "    </tr>\n",
       "  </tbody>\n",
       "</table>\n",
       "</div>"
      ],
      "text/plain": [
       "                                High        Low      Close   Volume\n",
       "Date                                                               \n",
       "2013-12-31 00:00:00-05:00  63.983084  63.561235  63.837063  3859100\n",
       "2014-01-02 00:00:00-05:00  64.469853  63.682942  64.015526  6878000\n",
       "2014-01-03 00:00:00-05:00  64.194014  63.699157  63.804630  4957400\n",
       "2014-01-06 00:00:00-05:00  64.015539  63.106944  63.447670  7280200\n",
       "2014-01-07 00:00:00-05:00  63.966865  63.212397  63.642361  5012300"
      ]
     },
     "execution_count": 3,
     "metadata": {},
     "output_type": "execute_result"
    }
   ],
   "source": [
    "data = {}\n",
    "\n",
    "ticker = yf.Ticker(\"WMT\")\n",
    "\n",
    "data['High'] = ticker.history(start = start_date, end = end_date)['High']\n",
    "data['Low'] = ticker.history(start = start_date, end = end_date)['Low']\n",
    "data['Close'] = ticker.history(start = start_date, end = end_date)['Close']\n",
    "data['Volume'] = ticker.history(start = start_date, end = end_date)['Volume']\n",
    "\n",
    "data = pd.DataFrame(data)\n",
    "\n",
    "data.head()"
   ]
  },
  {
   "cell_type": "code",
   "execution_count": 4,
   "id": "59970753",
   "metadata": {},
   "outputs": [],
   "source": [
    "import pandas_ta as ta"
   ]
  },
  {
   "cell_type": "code",
   "execution_count": 5,
   "id": "52a48296",
   "metadata": {},
   "outputs": [
    {
     "name": "stderr",
     "output_type": "stream",
     "text": [
      "/var/folders/xm/_6m30k1j1kbgb2ps1nz6t4d00000gn/T/ipykernel_47478/2209731584.py:3: UserWarning: Converting to PeriodArray/Index representation will drop timezone information.\n",
      "  data['VWAP'] = ta.vwap(data.High, data.Low, data.Close, data.Volume, length = 14)\n"
     ]
    }
   ],
   "source": [
    "data['RSI'] = ta.rsi(data.Close, length = 14)\n",
    "data['WPR'] = ta.willr(data.High, data.Low, data.Close, length = 14)\n",
    "data['VWAP'] = ta.vwap(data.High, data.Low, data.Close, data.Volume, length = 14)\n",
    "data['MACD'] = ta.ema(data.Close, length = 12) - ta.ema(data.Close, length = 26)"
   ]
  },
  {
   "cell_type": "code",
   "execution_count": 6,
   "id": "d97a7095",
   "metadata": {},
   "outputs": [],
   "source": [
    "## Creating buy/sell trading signals using the indicator data to feed into the network\n",
    "## for predicting the future stock price movement:"
   ]
  },
  {
   "cell_type": "code",
   "execution_count": 7,
   "id": "488a6fab",
   "metadata": {},
   "outputs": [],
   "source": [
    "rsi_signal = []\n",
    "for rsi in data['RSI']:\n",
    "  if rsi > 70:\n",
    "    rsi_signal.append(-1)\n",
    "  elif rsi < 30:\n",
    "    rsi_signal.append(1)\n",
    "  else:\n",
    "    rsi_signal.append(0)\n",
    "\n",
    "data['RSI_signal'] = rsi_signal\n",
    "\n",
    "wpr_signal = []\n",
    "for wpr in data['WPR']:\n",
    "  if wpr > -20:\n",
    "    wpr_signal.append(-1)\n",
    "  elif wpr < -80:\n",
    "    wpr_signal.append(1)\n",
    "  else:\n",
    "    wpr_signal.append(0)\n",
    "\n",
    "data['WPR_signal'] = wpr_signal"
   ]
  },
  {
   "cell_type": "code",
   "execution_count": 8,
   "id": "eacae9df",
   "metadata": {},
   "outputs": [],
   "source": [
    "## Target Variable"
   ]
  },
  {
   "cell_type": "code",
   "execution_count": 9,
   "id": "2208cfc4",
   "metadata": {},
   "outputs": [
    {
     "data": {
      "text/html": [
       "<div>\n",
       "<style scoped>\n",
       "    .dataframe tbody tr th:only-of-type {\n",
       "        vertical-align: middle;\n",
       "    }\n",
       "\n",
       "    .dataframe tbody tr th {\n",
       "        vertical-align: top;\n",
       "    }\n",
       "\n",
       "    .dataframe thead th {\n",
       "        text-align: right;\n",
       "    }\n",
       "</style>\n",
       "<table border=\"1\" class=\"dataframe\">\n",
       "  <thead>\n",
       "    <tr style=\"text-align: right;\">\n",
       "      <th></th>\n",
       "      <th>Date</th>\n",
       "      <th>High</th>\n",
       "      <th>Low</th>\n",
       "      <th>Close</th>\n",
       "      <th>Volume</th>\n",
       "      <th>RSI</th>\n",
       "      <th>WPR</th>\n",
       "      <th>VWAP</th>\n",
       "      <th>MACD</th>\n",
       "      <th>RSI_signal</th>\n",
       "      <th>WPR_signal</th>\n",
       "      <th>TargetNextClose</th>\n",
       "    </tr>\n",
       "  </thead>\n",
       "  <tbody>\n",
       "    <tr>\n",
       "      <th>0</th>\n",
       "      <td>2014-02-06 00:00:00-05:00</td>\n",
       "      <td>59.391444</td>\n",
       "      <td>58.815451</td>\n",
       "      <td>59.075043</td>\n",
       "      <td>7353100</td>\n",
       "      <td>23.115523</td>\n",
       "      <td>-87.911913</td>\n",
       "      <td>59.093979</td>\n",
       "      <td>-1.572440</td>\n",
       "      <td>1</td>\n",
       "      <td>1</td>\n",
       "      <td>59.829517</td>\n",
       "    </tr>\n",
       "    <tr>\n",
       "      <th>1</th>\n",
       "      <td>2014-02-07 00:00:00-05:00</td>\n",
       "      <td>59.870059</td>\n",
       "      <td>58.815431</td>\n",
       "      <td>59.829517</td>\n",
       "      <td>7287600</td>\n",
       "      <td>35.182298</td>\n",
       "      <td>-64.077114</td>\n",
       "      <td>59.505003</td>\n",
       "      <td>-1.478448</td>\n",
       "      <td>0</td>\n",
       "      <td>0</td>\n",
       "      <td>59.837616</td>\n",
       "    </tr>\n",
       "    <tr>\n",
       "      <th>2</th>\n",
       "      <td>2014-02-10 00:00:00-05:00</td>\n",
       "      <td>59.837605</td>\n",
       "      <td>59.188627</td>\n",
       "      <td>59.837616</td>\n",
       "      <td>6204100</td>\n",
       "      <td>35.299682</td>\n",
       "      <td>-60.892118</td>\n",
       "      <td>59.621282</td>\n",
       "      <td>-1.387314</td>\n",
       "      <td>0</td>\n",
       "      <td>0</td>\n",
       "      <td>60.681313</td>\n",
       "    </tr>\n",
       "    <tr>\n",
       "      <th>3</th>\n",
       "      <td>2014-02-11 00:00:00-05:00</td>\n",
       "      <td>60.721856</td>\n",
       "      <td>59.764610</td>\n",
       "      <td>60.681313</td>\n",
       "      <td>6511200</td>\n",
       "      <td>46.225474</td>\n",
       "      <td>-19.168767</td>\n",
       "      <td>60.389260</td>\n",
       "      <td>-1.232799</td>\n",
       "      <td>0</td>\n",
       "      <td>-1</td>\n",
       "      <td>60.811127</td>\n",
       "    </tr>\n",
       "    <tr>\n",
       "      <th>4</th>\n",
       "      <td>2014-02-12 00:00:00-05:00</td>\n",
       "      <td>60.989587</td>\n",
       "      <td>60.210779</td>\n",
       "      <td>60.811127</td>\n",
       "      <td>5339800</td>\n",
       "      <td>47.689195</td>\n",
       "      <td>-14.056361</td>\n",
       "      <td>60.670497</td>\n",
       "      <td>-1.087335</td>\n",
       "      <td>0</td>\n",
       "      <td>-1</td>\n",
       "      <td>61.135624</td>\n",
       "    </tr>\n",
       "  </tbody>\n",
       "</table>\n",
       "</div>"
      ],
      "text/plain": [
       "                       Date       High        Low      Close   Volume  \\\n",
       "0 2014-02-06 00:00:00-05:00  59.391444  58.815451  59.075043  7353100   \n",
       "1 2014-02-07 00:00:00-05:00  59.870059  58.815431  59.829517  7287600   \n",
       "2 2014-02-10 00:00:00-05:00  59.837605  59.188627  59.837616  6204100   \n",
       "3 2014-02-11 00:00:00-05:00  60.721856  59.764610  60.681313  6511200   \n",
       "4 2014-02-12 00:00:00-05:00  60.989587  60.210779  60.811127  5339800   \n",
       "\n",
       "         RSI        WPR       VWAP      MACD  RSI_signal  WPR_signal  \\\n",
       "0  23.115523 -87.911913  59.093979 -1.572440           1           1   \n",
       "1  35.182298 -64.077114  59.505003 -1.478448           0           0   \n",
       "2  35.299682 -60.892118  59.621282 -1.387314           0           0   \n",
       "3  46.225474 -19.168767  60.389260 -1.232799           0          -1   \n",
       "4  47.689195 -14.056361  60.670497 -1.087335           0          -1   \n",
       "\n",
       "   TargetNextClose  \n",
       "0        59.829517  \n",
       "1        59.837616  \n",
       "2        60.681313  \n",
       "3        60.811127  \n",
       "4        61.135624  "
      ]
     },
     "execution_count": 9,
     "metadata": {},
     "output_type": "execute_result"
    }
   ],
   "source": [
    "data['TargetNextClose'] = data['Close'].shift(-1)\n",
    "data.dropna(inplace = True)\n",
    "data.reset_index(inplace = True)\n",
    "\n",
    "data.head()"
   ]
  },
  {
   "cell_type": "code",
   "execution_count": 10,
   "id": "eb9c7fed",
   "metadata": {},
   "outputs": [
    {
     "data": {
      "text/html": [
       "<div>\n",
       "<style scoped>\n",
       "    .dataframe tbody tr th:only-of-type {\n",
       "        vertical-align: middle;\n",
       "    }\n",
       "\n",
       "    .dataframe tbody tr th {\n",
       "        vertical-align: top;\n",
       "    }\n",
       "\n",
       "    .dataframe thead th {\n",
       "        text-align: right;\n",
       "    }\n",
       "</style>\n",
       "<table border=\"1\" class=\"dataframe\">\n",
       "  <thead>\n",
       "    <tr style=\"text-align: right;\">\n",
       "      <th></th>\n",
       "      <th>High</th>\n",
       "      <th>Low</th>\n",
       "      <th>Close</th>\n",
       "      <th>Volume</th>\n",
       "      <th>RSI</th>\n",
       "      <th>WPR</th>\n",
       "      <th>VWAP</th>\n",
       "      <th>MACD</th>\n",
       "      <th>RSI_signal</th>\n",
       "      <th>WPR_signal</th>\n",
       "      <th>TargetNextClose</th>\n",
       "    </tr>\n",
       "  </thead>\n",
       "  <tbody>\n",
       "    <tr>\n",
       "      <th>0</th>\n",
       "      <td>59.391444</td>\n",
       "      <td>58.815451</td>\n",
       "      <td>59.075043</td>\n",
       "      <td>7353100</td>\n",
       "      <td>23.115523</td>\n",
       "      <td>-87.911913</td>\n",
       "      <td>59.093979</td>\n",
       "      <td>-1.572440</td>\n",
       "      <td>1</td>\n",
       "      <td>1</td>\n",
       "      <td>59.829517</td>\n",
       "    </tr>\n",
       "    <tr>\n",
       "      <th>1</th>\n",
       "      <td>59.870059</td>\n",
       "      <td>58.815431</td>\n",
       "      <td>59.829517</td>\n",
       "      <td>7287600</td>\n",
       "      <td>35.182298</td>\n",
       "      <td>-64.077114</td>\n",
       "      <td>59.505003</td>\n",
       "      <td>-1.478448</td>\n",
       "      <td>0</td>\n",
       "      <td>0</td>\n",
       "      <td>59.837616</td>\n",
       "    </tr>\n",
       "    <tr>\n",
       "      <th>2</th>\n",
       "      <td>59.837605</td>\n",
       "      <td>59.188627</td>\n",
       "      <td>59.837616</td>\n",
       "      <td>6204100</td>\n",
       "      <td>35.299682</td>\n",
       "      <td>-60.892118</td>\n",
       "      <td>59.621282</td>\n",
       "      <td>-1.387314</td>\n",
       "      <td>0</td>\n",
       "      <td>0</td>\n",
       "      <td>60.681313</td>\n",
       "    </tr>\n",
       "    <tr>\n",
       "      <th>3</th>\n",
       "      <td>60.721856</td>\n",
       "      <td>59.764610</td>\n",
       "      <td>60.681313</td>\n",
       "      <td>6511200</td>\n",
       "      <td>46.225474</td>\n",
       "      <td>-19.168767</td>\n",
       "      <td>60.389260</td>\n",
       "      <td>-1.232799</td>\n",
       "      <td>0</td>\n",
       "      <td>-1</td>\n",
       "      <td>60.811127</td>\n",
       "    </tr>\n",
       "    <tr>\n",
       "      <th>4</th>\n",
       "      <td>60.989587</td>\n",
       "      <td>60.210779</td>\n",
       "      <td>60.811127</td>\n",
       "      <td>5339800</td>\n",
       "      <td>47.689195</td>\n",
       "      <td>-14.056361</td>\n",
       "      <td>60.670497</td>\n",
       "      <td>-1.087335</td>\n",
       "      <td>0</td>\n",
       "      <td>-1</td>\n",
       "      <td>61.135624</td>\n",
       "    </tr>\n",
       "  </tbody>\n",
       "</table>\n",
       "</div>"
      ],
      "text/plain": [
       "        High        Low      Close   Volume        RSI        WPR       VWAP  \\\n",
       "0  59.391444  58.815451  59.075043  7353100  23.115523 -87.911913  59.093979   \n",
       "1  59.870059  58.815431  59.829517  7287600  35.182298 -64.077114  59.505003   \n",
       "2  59.837605  59.188627  59.837616  6204100  35.299682 -60.892118  59.621282   \n",
       "3  60.721856  59.764610  60.681313  6511200  46.225474 -19.168767  60.389260   \n",
       "4  60.989587  60.210779  60.811127  5339800  47.689195 -14.056361  60.670497   \n",
       "\n",
       "       MACD  RSI_signal  WPR_signal  TargetNextClose  \n",
       "0 -1.572440           1           1        59.829517  \n",
       "1 -1.478448           0           0        59.837616  \n",
       "2 -1.387314           0           0        60.681313  \n",
       "3 -1.232799           0          -1        60.811127  \n",
       "4 -1.087335           0          -1        61.135624  "
      ]
     },
     "execution_count": 10,
     "metadata": {},
     "output_type": "execute_result"
    }
   ],
   "source": [
    "data_set = data.iloc[:, 1:12]\n",
    "\n",
    "pd.set_option('display.max_columns', None)\n",
    "\n",
    "data_set.head()"
   ]
  },
  {
   "cell_type": "code",
   "execution_count": 11,
   "id": "fdc393f7",
   "metadata": {},
   "outputs": [],
   "source": [
    "## Feature Scaling"
   ]
  },
  {
   "cell_type": "code",
   "execution_count": 12,
   "id": "6be7f72a",
   "metadata": {},
   "outputs": [],
   "source": [
    "from sklearn.preprocessing import MinMaxScaler\n",
    "scaler_feature_train = MinMaxScaler(feature_range = (0, 1))\n",
    "scaler_feature_test = MinMaxScaler(feature_range = (0, 1))\n",
    "scaler_target_train = MinMaxScaler(feature_range = (0, 1))\n",
    "scaler_target_test = MinMaxScaler(feature_range = (0, 1))\n",
    "\n",
    "feature_set = data_set.drop(['TargetNextClose'], axis = 1)\n",
    "\n",
    "target_set = np.array(data_set['TargetNextClose']).reshape(-1, 1)"
   ]
  },
  {
   "cell_type": "code",
   "execution_count": 13,
   "id": "073a71ec",
   "metadata": {},
   "outputs": [],
   "source": [
    "splitlimit = int(len(feature_set) * 0.8)\n",
    "\n",
    "feature_set_train, feature_set_test = feature_set[:splitlimit], feature_set[splitlimit:]\n",
    "feature_set_train_scaled = scaler_feature_train.fit_transform(feature_set_train)\n",
    "feature_set_test_scaled = scaler_feature_test.fit_transform(feature_set_test)\n",
    "\n",
    "target_set_train, target_set_test = target_set[:splitlimit], target_set[splitlimit:]\n",
    "target_set_train_scaled = scaler_target_train.fit_transform(target_set_train)\n",
    "target_set_test_scaled = scaler_target_test.fit_transform(target_set_test)"
   ]
  },
  {
   "cell_type": "code",
   "execution_count": 14,
   "id": "869fd0fc",
   "metadata": {},
   "outputs": [],
   "source": [
    "## Constructing the dataset\n",
    "\n"
   ]
  },
  {
   "cell_type": "code",
   "execution_count": 15,
   "id": "4c751897",
   "metadata": {},
   "outputs": [
    {
     "name": "stdout",
     "output_type": "stream",
     "text": [
      "(1934, 14, 10)\n",
      "(474, 14, 10)\n",
      "(1934, 1)\n",
      "(474, 1)\n"
     ]
    }
   ],
   "source": [
    "X_train = []\n",
    "\n",
    "backcandles = 14\n",
    "features = 10\n",
    "\n",
    "for i in range(features):\n",
    "    X_train.append([])\n",
    "\n",
    "    for j in range(backcandles, feature_set_train_scaled.shape[0]):\n",
    "        X_train[i].append(feature_set_train_scaled[j-backcandles: j, i])\n",
    "\n",
    "X_train = np.moveaxis(X_train, [0], [2])\n",
    "\n",
    "X_test = []\n",
    "\n",
    "for i in range(features):\n",
    "    X_test.append([])\n",
    "\n",
    "    for j in range(backcandles, feature_set_test_scaled.shape[0]):\n",
    "        X_test[i].append(feature_set_test_scaled[j-backcandles: j, i])\n",
    "\n",
    "X_test = np.moveaxis(X_test, [0], [2])\n",
    "\n",
    "X_train, X_test = np.array(X_train), np.array(X_test)\n",
    "Yi, Yj = np.array(target_set_train_scaled[backcandles:]), np.array(target_set_test_scaled[backcandles:]),\n",
    "Y_train, Y_test = np.reshape(Yi, (len(Yi), 1)), np.reshape(Yj, (len(Yj), 1))\n",
    "\n",
    "print(X_train.shape)\n",
    "print(X_test.shape)\n",
    "print(Y_train.shape)\n",
    "print(Y_test.shape)"
   ]
  },
  {
   "cell_type": "code",
   "execution_count": 16,
   "id": "7e511c46",
   "metadata": {},
   "outputs": [],
   "source": [
    "## Building and training the LSTM neural network"
   ]
  },
  {
   "cell_type": "code",
   "execution_count": 17,
   "id": "19b3f735",
   "metadata": {
    "scrolled": true
   },
   "outputs": [
    {
     "name": "stderr",
     "output_type": "stream",
     "text": [
      "WARNING:absl:At this time, the v2.11+ optimizer `tf.keras.optimizers.Adam` runs slowly on M1/M2 Macs, please use the legacy Keras optimizer instead, located at `tf.keras.optimizers.legacy.Adam`.\n",
      "WARNING:absl:There is a known slowdown when using v2.11+ Keras optimizers on M1/M2 Macs. Falling back to the legacy Keras optimizer, i.e., `tf.keras.optimizers.legacy.Adam`.\n"
     ]
    },
    {
     "name": "stdout",
     "output_type": "stream",
     "text": [
      "Epoch 1/100\n",
      "129/129 [==============================] - 3s 10ms/step - loss: 0.0597 - mae: 0.0677 - val_loss: 0.0416 - val_mae: 0.0700\n",
      "Epoch 2/100\n",
      "129/129 [==============================] - 1s 7ms/step - loss: 0.0286 - mae: 0.0470 - val_loss: 0.0287 - val_mae: 0.0858\n",
      "Epoch 3/100\n",
      "129/129 [==============================] - 1s 7ms/step - loss: 0.0166 - mae: 0.0409 - val_loss: 0.0174 - val_mae: 0.0612\n",
      "Epoch 4/100\n",
      "129/129 [==============================] - 1s 8ms/step - loss: 0.0115 - mae: 0.0413 - val_loss: 0.0131 - val_mae: 0.0572\n",
      "Epoch 5/100\n",
      "129/129 [==============================] - 1s 7ms/step - loss: 0.0081 - mae: 0.0379 - val_loss: 0.0159 - val_mae: 0.0863\n",
      "Epoch 6/100\n",
      "129/129 [==============================] - 1s 8ms/step - loss: 0.0061 - mae: 0.0360 - val_loss: 0.0105 - val_mae: 0.0628\n",
      "Epoch 7/100\n",
      "129/129 [==============================] - 1s 7ms/step - loss: 0.0047 - mae: 0.0334 - val_loss: 0.0098 - val_mae: 0.0627\n",
      "Epoch 8/100\n",
      "129/129 [==============================] - 1s 7ms/step - loss: 0.0046 - mae: 0.0360 - val_loss: 0.0085 - val_mae: 0.0563\n",
      "Epoch 9/100\n",
      "129/129 [==============================] - 1s 7ms/step - loss: 0.0038 - mae: 0.0345 - val_loss: 0.0087 - val_mae: 0.0615\n",
      "Epoch 10/100\n",
      "129/129 [==============================] - 1s 7ms/step - loss: 0.0035 - mae: 0.0336 - val_loss: 0.0090 - val_mae: 0.0647\n",
      "Epoch 11/100\n",
      "129/129 [==============================] - 1s 7ms/step - loss: 0.0032 - mae: 0.0321 - val_loss: 0.0075 - val_mae: 0.0556\n",
      "Epoch 12/100\n",
      "129/129 [==============================] - 1s 7ms/step - loss: 0.0030 - mae: 0.0339 - val_loss: 0.0073 - val_mae: 0.0559\n",
      "Epoch 13/100\n",
      "129/129 [==============================] - 1s 7ms/step - loss: 0.0032 - mae: 0.0348 - val_loss: 0.0070 - val_mae: 0.0544\n",
      "Epoch 14/100\n",
      "129/129 [==============================] - 1s 7ms/step - loss: 0.0030 - mae: 0.0335 - val_loss: 0.0083 - val_mae: 0.0642\n",
      "Epoch 15/100\n",
      "129/129 [==============================] - 1s 7ms/step - loss: 0.0026 - mae: 0.0319 - val_loss: 0.0074 - val_mae: 0.0603\n",
      "Epoch 16/100\n",
      "129/129 [==============================] - 1s 7ms/step - loss: 0.0024 - mae: 0.0306 - val_loss: 0.0066 - val_mae: 0.0534\n",
      "Epoch 17/100\n",
      "129/129 [==============================] - 1s 7ms/step - loss: 0.0021 - mae: 0.0287 - val_loss: 0.0064 - val_mae: 0.0529\n",
      "Epoch 18/100\n",
      "129/129 [==============================] - 1s 7ms/step - loss: 0.0022 - mae: 0.0293 - val_loss: 0.0066 - val_mae: 0.0549\n",
      "Epoch 19/100\n",
      "129/129 [==============================] - 1s 7ms/step - loss: 0.0021 - mae: 0.0291 - val_loss: 0.0069 - val_mae: 0.0559\n",
      "Epoch 20/100\n",
      "129/129 [==============================] - 1s 7ms/step - loss: 0.0021 - mae: 0.0298 - val_loss: 0.0066 - val_mae: 0.0553\n",
      "Epoch 21/100\n",
      "129/129 [==============================] - 1s 7ms/step - loss: 0.0020 - mae: 0.0297 - val_loss: 0.0065 - val_mae: 0.0541\n",
      "Epoch 22/100\n",
      "129/129 [==============================] - 1s 7ms/step - loss: 0.0021 - mae: 0.0299 - val_loss: 0.0066 - val_mae: 0.0537\n",
      "Epoch 23/100\n",
      "129/129 [==============================] - 1s 8ms/step - loss: 0.0020 - mae: 0.0297 - val_loss: 0.0067 - val_mae: 0.0584\n",
      "Epoch 24/100\n",
      "129/129 [==============================] - 1s 7ms/step - loss: 0.0020 - mae: 0.0299 - val_loss: 0.0063 - val_mae: 0.0531\n",
      "Epoch 25/100\n",
      "129/129 [==============================] - 1s 7ms/step - loss: 0.0019 - mae: 0.0281 - val_loss: 0.0061 - val_mae: 0.0521\n",
      "Epoch 26/100\n",
      "129/129 [==============================] - 1s 7ms/step - loss: 0.0019 - mae: 0.0285 - val_loss: 0.0080 - val_mae: 0.0675\n",
      "Epoch 27/100\n",
      "129/129 [==============================] - 1s 7ms/step - loss: 0.0019 - mae: 0.0289 - val_loss: 0.0063 - val_mae: 0.0547\n",
      "Epoch 28/100\n",
      "129/129 [==============================] - 1s 7ms/step - loss: 0.0017 - mae: 0.0275 - val_loss: 0.0072 - val_mae: 0.0621\n",
      "Epoch 29/100\n",
      "129/129 [==============================] - 1s 7ms/step - loss: 0.0019 - mae: 0.0289 - val_loss: 0.0063 - val_mae: 0.0553\n",
      "Epoch 30/100\n",
      "129/129 [==============================] - 1s 8ms/step - loss: 0.0019 - mae: 0.0292 - val_loss: 0.0056 - val_mae: 0.0504\n",
      "Epoch 31/100\n",
      "129/129 [==============================] - 1s 8ms/step - loss: 0.0017 - mae: 0.0273 - val_loss: 0.0057 - val_mae: 0.0507\n",
      "Epoch 32/100\n",
      "129/129 [==============================] - 1s 7ms/step - loss: 0.0019 - mae: 0.0291 - val_loss: 0.0058 - val_mae: 0.0523\n",
      "Epoch 33/100\n",
      "129/129 [==============================] - 1s 7ms/step - loss: 0.0018 - mae: 0.0283 - val_loss: 0.0061 - val_mae: 0.0544\n",
      "Epoch 34/100\n",
      "129/129 [==============================] - 1s 7ms/step - loss: 0.0017 - mae: 0.0275 - val_loss: 0.0061 - val_mae: 0.0533\n",
      "Epoch 35/100\n",
      "129/129 [==============================] - 1s 7ms/step - loss: 0.0017 - mae: 0.0275 - val_loss: 0.0060 - val_mae: 0.0525\n",
      "Epoch 36/100\n",
      "129/129 [==============================] - 1s 7ms/step - loss: 0.0017 - mae: 0.0281 - val_loss: 0.0057 - val_mae: 0.0507\n",
      "Epoch 37/100\n",
      "129/129 [==============================] - 1s 7ms/step - loss: 0.0018 - mae: 0.0283 - val_loss: 0.0066 - val_mae: 0.0583\n",
      "Epoch 38/100\n",
      "129/129 [==============================] - 1s 7ms/step - loss: 0.0017 - mae: 0.0281 - val_loss: 0.0063 - val_mae: 0.0538\n",
      "Epoch 39/100\n",
      "129/129 [==============================] - 1s 7ms/step - loss: 0.0017 - mae: 0.0275 - val_loss: 0.0058 - val_mae: 0.0525\n",
      "Epoch 40/100\n",
      "129/129 [==============================] - 1s 7ms/step - loss: 0.0019 - mae: 0.0290 - val_loss: 0.0059 - val_mae: 0.0538\n",
      "15/15 [==============================] - 0s 3ms/step - loss: 0.0056 - mae: 0.0504\n",
      "Test Loss: 0.005643005948513746, Test MAE: 0.050367504358291626\n"
     ]
    }
   ],
   "source": [
    "# Define your model\n",
    "import tensorflow as tf\n",
    "from tensorflow import keras\n",
    "\n",
    "# Define your model\n",
    "lstm_input = keras.layers.Input(shape=(backcandles, features), name='lstm_input')\n",
    "lstm1 = keras.layers.LSTM(100, return_sequences=True, name='firstLSTM_layer')(lstm_input)\n",
    "lstm2 = keras.layers.LSTM(75, name='secondLSTM_layer')(lstm1)\n",
    "dense = keras.layers.Dense(64, activation='relu', kernel_regularizer=keras.regularizers.l2(0.001))(lstm2)\n",
    "dropout = keras.layers.Dropout(0.2)(dense)\n",
    "out = keras.layers.Dense(1, name='output')(dropout)\n",
    "\n",
    "model = keras.models.Model(inputs=lstm_input, outputs=out)\n",
    "\n",
    "# Compile the model with learning rate scheduling\n",
    "initial_learning_rate = 0.001\n",
    "lr_schedule = keras.optimizers.schedules.ExponentialDecay(\n",
    "    initial_learning_rate, decay_steps=1000, decay_rate=0.9, staircase=True\n",
    ")\n",
    "adam = keras.optimizers.Adam(learning_rate=lr_schedule)\n",
    "\n",
    "model.compile(optimizer=adam, loss='mse', metrics=['mae'])\n",
    "\n",
    "# Train the model with early stopping\n",
    "early_stopping = keras.callbacks.EarlyStopping(patience=10, restore_best_weights=True)\n",
    "\n",
    "model.fit(x=X_train, y=Y_train, batch_size=15, epochs=100, shuffle=True, validation_data=(X_test, Y_test), callbacks=[early_stopping])\n",
    "\n",
    "# Evaluate the model on test data\n",
    "loss, mae = model.evaluate(x=X_test, y=Y_test)\n",
    "print(f\"Test Loss: {loss}, Test MAE: {mae}\")\n",
    "\n",
    "\n",
    "\n"
   ]
  },
  {
   "cell_type": "code",
   "execution_count": 18,
   "id": "a8a16856",
   "metadata": {
    "scrolled": true
   },
   "outputs": [
    {
     "name": "stdout",
     "output_type": "stream",
     "text": [
      "Model: \"model\"\n",
      "_________________________________________________________________\n",
      " Layer (type)                Output Shape              Param #   \n",
      "=================================================================\n",
      " lstm_input (InputLayer)     [(None, 14, 10)]          0         \n",
      "                                                                 \n",
      " firstLSTM_layer (LSTM)      (None, 14, 100)           44400     \n",
      "                                                                 \n",
      " secondLSTM_layer (LSTM)     (None, 75)                52800     \n",
      "                                                                 \n",
      " dense (Dense)               (None, 64)                4864      \n",
      "                                                                 \n",
      " dropout (Dropout)           (None, 64)                0         \n",
      "                                                                 \n",
      " output (Dense)              (None, 1)                 65        \n",
      "                                                                 \n",
      "=================================================================\n",
      "Total params: 102129 (398.94 KB)\n",
      "Trainable params: 102129 (398.94 KB)\n",
      "Non-trainable params: 0 (0.00 Byte)\n",
      "_________________________________________________________________\n"
     ]
    }
   ],
   "source": [
    "model.summary()"
   ]
  },
  {
   "cell_type": "code",
   "execution_count": 19,
   "id": "8071da9e",
   "metadata": {},
   "outputs": [],
   "source": [
    "## Test Data Predictions"
   ]
  },
  {
   "cell_type": "code",
   "execution_count": 20,
   "id": "6c2aa3e9",
   "metadata": {
    "scrolled": true
   },
   "outputs": [
    {
     "name": "stdout",
     "output_type": "stream",
     "text": [
      "15/15 [==============================] - 0s 3ms/step\n"
     ]
    }
   ],
   "source": [
    "Y_pred = model.predict(X_test)"
   ]
  },
  {
   "cell_type": "code",
   "execution_count": 21,
   "id": "123f4c26",
   "metadata": {
    "scrolled": false
   },
   "outputs": [
    {
     "data": {
      "image/png": "[encoded data removed]",
      "text/plain": [
       "<Figure size 1000x600 with 1 Axes>"
      ]
     },
     "metadata": {},
     "output_type": "display_data"
    }
   ],
   "source": [
    "import matplotlib.pyplot as plt\n",
    "\n",
    "# Inverse transform the scaled predictions to the original scale\n",
    "Y_test_prices = scaler_target_test.inverse_transform(Y_test)\n",
    "Y_pred_prices = scaler_target_test.inverse_transform(Y_pred)\n",
    "\n",
    "# Plot the actual and predicted stock prices\n",
    "plt.figure(figsize=(10, 6))\n",
    "plt.plot(Y_test_prices, color='black', label='Actual price')\n",
    "plt.plot(Y_pred_prices, color='green', label='Predicted price')\n",
    "plt.legend()\n",
    "plt.show()"
   ]
  },
  {
   "cell_type": "code",
   "execution_count": 22,
   "id": "6ad019a9",
   "metadata": {},
   "outputs": [],
   "source": [
    "## Evaluation Metrics"
   ]
  },
  {
   "cell_type": "code",
   "execution_count": 23,
   "id": "8242a613",
   "metadata": {},
   "outputs": [],
   "source": [
    "## rmse (Root Mean Square Error)"
   ]
  },
  {
   "cell_type": "code",
   "execution_count": 24,
   "id": "08e2eb49",
   "metadata": {},
   "outputs": [
    {
     "name": "stdout",
     "output_type": "stream",
     "text": [
      "Root Mean Square Error (RMSE) = 0.1 %\n"
     ]
    }
   ],
   "source": [
    "rmse = np.round(np.sqrt(np.mean(((Y_test_prices[0] - Y_pred_prices[0])/Y_test_prices[0])**2)), 3)\n",
    "print(\"Root Mean Square Error (RMSE) =\", np.round(rmse*100, 3), \"%\")"
   ]
  },
  {
   "cell_type": "code",
   "execution_count": 25,
   "id": "9ee46fc8",
   "metadata": {},
   "outputs": [],
   "source": [
    "## Correlation"
   ]
  },
  {
   "cell_type": "code",
   "execution_count": 26,
   "id": "b070fc99",
   "metadata": {},
   "outputs": [
    {
     "name": "stdout",
     "output_type": "stream",
     "text": [
      "474\n"
     ]
    }
   ],
   "source": [
    "num_elements = Y_pred.shape[0]\n",
    "print(num_elements)"
   ]
  },
  {
   "cell_type": "code",
   "execution_count": 27,
   "id": "0102d82e",
   "metadata": {},
   "outputs": [
    {
     "name": "stdout",
     "output_type": "stream",
     "text": [
      "474\n"
     ]
    }
   ],
   "source": [
    "num_elements = Y_test.shape[0]\n",
    "print(num_elements)"
   ]
  },
  {
   "cell_type": "code",
   "execution_count": 28,
   "id": "efd6be24",
   "metadata": {},
   "outputs": [
    {
     "name": "stdout",
     "output_type": "stream",
     "text": [
      "Correlation between actual and predicted values: 0.9486558783233883\n"
     ]
    }
   ],
   "source": [
    "predicted_values = Y_pred.ravel()\n",
    "actual_values = Y_test.ravel()\n",
    "correlation = np.corrcoef(actual_values, predicted_values)[0, 1]\n",
    "print(\"Correlation between actual and predicted values:\", correlation)"
   ]
  },
  {
   "cell_type": "code",
   "execution_count": 29,
   "id": "5444da5d",
   "metadata": {},
   "outputs": [],
   "source": [
    "## cointegration test"
   ]
  },
  {
   "cell_type": "code",
   "execution_count": null,
   "id": "f221f7c7",
   "metadata": {},
   "outputs": [],
   "source": [
    "import statsmodels.tsa.stattools as ts\n",
    "\n",
    "# Perform the cointegration test\n",
    "coint_result = ts.coint(Y_test_prices[0], Y_pred_prices[0], trend='c') \n",
    " # Specify the trend parameter as 'c' (constant) or 'ct' (constant and trend)\n",
    "p_val = coint_result[1]\n",
    "\n",
    "print(\"P-Value for the cointegration test:\")\n",
    "print(np.round(p_val, 10))\n",
    "\n",
    "## The cointegration test results in a P-value which is  0 ( Zero Division Error ) . \n",
    "## This indicates that the time series of the predicted prices and the actual prices are highly cointegration i.e. .\n",
    "## they show a strong positive correlation over their duration ."
   ]
  },
  {
   "cell_type": "code",
   "execution_count": null,
   "id": "3ff86efe",
   "metadata": {},
   "outputs": [],
   "source": []
  }
 ],
 "metadata": {
  "kernelspec": {
   "display_name": "Python 3 (ipykernel)",
   "language": "python",
   "name": "python3"
  },
  "language_info": {
   "codemirror_mode": {
    "name": "ipython",
    "version": 3
   },
   "file_extension": ".py",
   "mimetype": "text/x-python",
   "name": "python",
   "nbconvert_exporter": "python",
   "pygments_lexer": "ipython3",
   "version": "3.10.13"
  }
 },
 "nbformat": 4,
 "nbformat_minor": 5
}
