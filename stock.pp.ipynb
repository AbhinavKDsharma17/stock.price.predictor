{
 "cells": [
  {
   "cell_type": "markdown",
   "id": "1f0789a1",
   "metadata": {},
   "source": [
    "# LSTM Neural Network for Stock Price Prediction"
   ]
  },
  {
   "cell_type": "markdown",
   "id": "e44d281d",
   "metadata": {},
   "source": [
    "A recurrent neural network (RNN) is a type of artificial neural network which uses sequential data or time series data. They are distinguished by their “memory” as they take information from prior inputs to influence the current input and output. While traditional deep neural networks assume that inputs and outputs are independent of each other, the output of recurrent neural networks depend on the prior elements within the sequence.\n",
    "\n",
    "When we observe stock price-volume data, it is also a form of sequential/time series data. It is more than likely that the stock price on a given day will be influenced by the trends/patterns seen in the price on the preceding days. One can take advantage of deep learning techniques like RNNs to learn these patterns/trends in the data and make predictions on the stock price.\n",
    "\n",
    "LSTM (Long Short-Term Memory) is a type of RNN architecture which allows information to persist and can identify long-term dependencies. This type of network may be better suited for forecasting time series data such as stock prices as it can learn relatively long-term trends in the data and produce more accurate predictions on the future prices."
   ]
  },
  {
   "cell_type": "markdown",
   "id": "4e646277",
   "metadata": {},
   "source": [
    "## Dataset"
   ]
  },
  {
   "cell_type": "code",
   "execution_count": 1,
   "id": "ff3ece6e",
   "metadata": {},
   "outputs": [],
   "source": [
    "import numpy as np\n",
    "import pandas as pd\n",
    "import yfinance as yf\n",
    "import matplotlib.pyplot as plt\n",
    "import seaborn as sns\n",
    "sns.set(style = \"whitegrid\")"
   ]
  },
  {
   "cell_type": "code",
   "execution_count": 2,
   "id": "dbee8922",
   "metadata": {},
   "outputs": [],
   "source": [
    "start_date = \"2013-12-31\"\n",
    "end_date = \"2023-12-31\"\n"
   ]
  },
  {
   "cell_type": "markdown",
   "id": "22729049",
   "metadata": {},
   "source": [
    "We will be using stock-price data over a duration of 10 years as markets are cyclical in nature and usually repeat their behaviour every 10 years"
   ]
  },
  {
   "cell_type": "code",
   "execution_count": 3,
   "id": "4ee92dd6",
   "metadata": {},
   "outputs": [
    {
     "data": {
      "text/html": [
       "<div>\n",
       "<style scoped>\n",
       "    .dataframe tbody tr th:only-of-type {\n",
       "        vertical-align: middle;\n",
       "    }\n",
       "\n",
       "    .dataframe tbody tr th {\n",
       "        vertical-align: top;\n",
       "    }\n",
       "\n",
       "    .dataframe thead th {\n",
       "        text-align: right;\n",
       "    }\n",
       "</style>\n",
       "<table border=\"1\" class=\"dataframe\">\n",
       "  <thead>\n",
       "    <tr style=\"text-align: right;\">\n",
       "      <th></th>\n",
       "      <th>High</th>\n",
       "      <th>Low</th>\n",
       "      <th>Close</th>\n",
       "      <th>Volume</th>\n",
       "    </tr>\n",
       "    <tr>\n",
       "      <th>Date</th>\n",
       "      <th></th>\n",
       "      <th></th>\n",
       "      <th></th>\n",
       "      <th></th>\n",
       "    </tr>\n",
       "  </thead>\n",
       "  <tbody>\n",
       "    <tr>\n",
       "      <th>2013-12-31 00:00:00-05:00</th>\n",
       "      <td>63.746337</td>\n",
       "      <td>63.326046</td>\n",
       "      <td>63.600853</td>\n",
       "      <td>3859100</td>\n",
       "    </tr>\n",
       "    <tr>\n",
       "      <th>2014-01-02 00:00:00-05:00</th>\n",
       "      <td>64.231264</td>\n",
       "      <td>63.447265</td>\n",
       "      <td>63.778648</td>\n",
       "      <td>6878000</td>\n",
       "    </tr>\n",
       "    <tr>\n",
       "      <th>2014-01-03 00:00:00-05:00</th>\n",
       "      <td>63.956493</td>\n",
       "      <td>63.463463</td>\n",
       "      <td>63.568539</td>\n",
       "      <td>4957400</td>\n",
       "    </tr>\n",
       "    <tr>\n",
       "      <th>2014-01-06 00:00:00-05:00</th>\n",
       "      <td>63.778662</td>\n",
       "      <td>62.873425</td>\n",
       "      <td>63.212887</td>\n",
       "      <td>7280200</td>\n",
       "    </tr>\n",
       "    <tr>\n",
       "      <th>2014-01-07 00:00:00-05:00</th>\n",
       "      <td>63.730141</td>\n",
       "      <td>62.978472</td>\n",
       "      <td>63.406841</td>\n",
       "      <td>5012300</td>\n",
       "    </tr>\n",
       "  </tbody>\n",
       "</table>\n",
       "</div>"
      ],
      "text/plain": [
       "                                High        Low      Close   Volume\n",
       "Date                                                               \n",
       "2013-12-31 00:00:00-05:00  63.746337  63.326046  63.600853  3859100\n",
       "2014-01-02 00:00:00-05:00  64.231264  63.447265  63.778648  6878000\n",
       "2014-01-03 00:00:00-05:00  63.956493  63.463463  63.568539  4957400\n",
       "2014-01-06 00:00:00-05:00  63.778662  62.873425  63.212887  7280200\n",
       "2014-01-07 00:00:00-05:00  63.730141  62.978472  63.406841  5012300"
      ]
     },
     "execution_count": 3,
     "metadata": {},
     "output_type": "execute_result"
    }
   ],
   "source": [
    "data = {}\n",
    "\n",
    "ticker = yf.Ticker(\"WMT\")\n",
    "\n",
    "data['High'] = ticker.history(start = start_date, end = end_date)['High']\n",
    "data['Low'] = ticker.history(start = start_date, end = end_date)['Low']\n",
    "data['Close'] = ticker.history(start = start_date, end = end_date)['Close']\n",
    "data['Volume'] = ticker.history(start = start_date, end = end_date)['Volume']\n",
    "\n",
    "data = pd.DataFrame(data)\n",
    "\n",
    "data.head()"
   ]
  },
  {
   "cell_type": "markdown",
   "id": "d5280f6d",
   "metadata": {},
   "source": [
    "## Technical Indicators"
   ]
  },
  {
   "cell_type": "markdown",
   "id": "5c761d54",
   "metadata": {},
   "source": [
    "Technical indicators are heuristic or pattern-based signals produced by the price, volume, and/or open interest of a security. Technical indicators can be used to predict future price movements of a security and identify possible trends. These indicators can broadly be categorised into two types:\n",
    "\n",
    "Lagging Indicators\n",
    "\n",
    "These indicators provide delayed feedback i.e they give a signal once the price movement has already passed or is in progress. Lagging indicators can be used to confirm a price trend which has already initiated.\n",
    "\n",
    "Leading Indicators\n",
    "\n",
    "These indicators are used to predict the future direction of a price movement. Leading indicators are used to identify potential trends in the future and enter the market accordingly.\n",
    "\n",
    "For the purpose of this model, a combination of both leading as well as lagging technical indicators will be fed into the network in order to follow price trends once they are in place as well as predict future trends and forecast the price accurately.\n",
    "\n",
    "1) Relative Strength Index (RSI)\n",
    "\n",
    "2) Williams %R (WPR)\n",
    "\n",
    "3) Volume Weighted Average Price (VWAP)\n",
    "\n",
    "4) Moving Average Convergence-Divergence (MACD)"
   ]
  },
  {
   "cell_type": "code",
   "execution_count": 4,
   "id": "59970753",
   "metadata": {},
   "outputs": [],
   "source": [
    "import pandas_ta as ta"
   ]
  },
  {
   "cell_type": "code",
   "execution_count": 5,
   "id": "52a48296",
   "metadata": {},
   "outputs": [
    {
     "name": "stderr",
     "output_type": "stream",
     "text": [
      "/var/folders/xm/_6m30k1j1kbgb2ps1nz6t4d00000gn/T/ipykernel_85010/2209731584.py:3: UserWarning: Converting to PeriodArray/Index representation will drop timezone information.\n",
      "  data['VWAP'] = ta.vwap(data.High, data.Low, data.Close, data.Volume, length = 14)\n"
     ]
    }
   ],
   "source": [
    "data['RSI'] = ta.rsi(data.Close, length = 14)\n",
    "data['WPR'] = ta.willr(data.High, data.Low, data.Close, length = 14)\n",
    "data['VWAP'] = ta.vwap(data.High, data.Low, data.Close, data.Volume, length = 14)\n",
    "data['MACD'] = ta.ema(data.Close, length = 12) - ta.ema(data.Close, length = 26)"
   ]
  },
  {
   "cell_type": "markdown",
   "id": "e06e45db",
   "metadata": {},
   "source": [
    "Creating buy/sell trading signals using the indicator data to feed into the network for predicting the future stock price movement:"
   ]
  },
  {
   "cell_type": "code",
   "execution_count": 6,
   "id": "488a6fab",
   "metadata": {},
   "outputs": [],
   "source": [
    "rsi_signal = []\n",
    "for rsi in data['RSI']:\n",
    "  if rsi > 70:\n",
    "    rsi_signal.append(-1)\n",
    "  elif rsi < 30:\n",
    "    rsi_signal.append(1)\n",
    "  else:\n",
    "    rsi_signal.append(0)\n",
    "\n",
    "data['RSI_signal'] = rsi_signal\n",
    "\n",
    "wpr_signal = []\n",
    "for wpr in data['WPR']:\n",
    "  if wpr > -20:\n",
    "    wpr_signal.append(-1)\n",
    "  elif wpr < -80:\n",
    "    wpr_signal.append(1)\n",
    "  else:\n",
    "    wpr_signal.append(0)\n",
    "\n",
    "data['WPR_signal'] = wpr_signal"
   ]
  },
  {
   "cell_type": "markdown",
   "id": "c3c1c9ac",
   "metadata": {},
   "source": [
    "## Target Variable"
   ]
  },
  {
   "cell_type": "markdown",
   "id": "da23b506",
   "metadata": {},
   "source": [
    "For the purpose of this model, we will be predicting the next day stock price on the basis of data fed in from the previous 14 days. The target variable will be defined as the \"Close\" stock price for the next day."
   ]
  },
  {
   "cell_type": "code",
   "execution_count": 7,
   "id": "2208cfc4",
   "metadata": {},
   "outputs": [
    {
     "data": {
      "text/html": [
       "<div>\n",
       "<style scoped>\n",
       "    .dataframe tbody tr th:only-of-type {\n",
       "        vertical-align: middle;\n",
       "    }\n",
       "\n",
       "    .dataframe tbody tr th {\n",
       "        vertical-align: top;\n",
       "    }\n",
       "\n",
       "    .dataframe thead th {\n",
       "        text-align: right;\n",
       "    }\n",
       "</style>\n",
       "<table border=\"1\" class=\"dataframe\">\n",
       "  <thead>\n",
       "    <tr style=\"text-align: right;\">\n",
       "      <th></th>\n",
       "      <th>Date</th>\n",
       "      <th>High</th>\n",
       "      <th>Low</th>\n",
       "      <th>Close</th>\n",
       "      <th>Volume</th>\n",
       "      <th>RSI</th>\n",
       "      <th>WPR</th>\n",
       "      <th>VWAP</th>\n",
       "      <th>MACD</th>\n",
       "      <th>RSI_signal</th>\n",
       "      <th>WPR_signal</th>\n",
       "      <th>TargetNextClose</th>\n",
       "    </tr>\n",
       "  </thead>\n",
       "  <tbody>\n",
       "    <tr>\n",
       "      <th>0</th>\n",
       "      <td>2014-02-06 00:00:00-05:00</td>\n",
       "      <td>59.171664</td>\n",
       "      <td>58.597811</td>\n",
       "      <td>58.856449</td>\n",
       "      <td>7353100</td>\n",
       "      <td>23.115414</td>\n",
       "      <td>-87.911787</td>\n",
       "      <td>58.875308</td>\n",
       "      <td>-1.566625</td>\n",
       "      <td>1</td>\n",
       "      <td>1</td>\n",
       "      <td>59.608105</td>\n",
       "    </tr>\n",
       "    <tr>\n",
       "      <th>1</th>\n",
       "      <td>2014-02-07 00:00:00-05:00</td>\n",
       "      <td>59.648519</td>\n",
       "      <td>58.597798</td>\n",
       "      <td>59.608105</td>\n",
       "      <td>7287600</td>\n",
       "      <td>35.181908</td>\n",
       "      <td>-64.077874</td>\n",
       "      <td>59.284807</td>\n",
       "      <td>-1.472982</td>\n",
       "      <td>0</td>\n",
       "      <td>0</td>\n",
       "      <td>59.616196</td>\n",
       "    </tr>\n",
       "    <tr>\n",
       "      <th>2</th>\n",
       "      <td>2014-02-10 00:00:00-05:00</td>\n",
       "      <td>59.616196</td>\n",
       "      <td>58.969597</td>\n",
       "      <td>59.616196</td>\n",
       "      <td>6204100</td>\n",
       "      <td>35.299618</td>\n",
       "      <td>-60.892198</td>\n",
       "      <td>59.400663</td>\n",
       "      <td>-1.382184</td>\n",
       "      <td>0</td>\n",
       "      <td>0</td>\n",
       "      <td>60.456768</td>\n",
       "    </tr>\n",
       "    <tr>\n",
       "      <th>3</th>\n",
       "      <td>2014-02-11 00:00:00-05:00</td>\n",
       "      <td>60.497177</td>\n",
       "      <td>59.543447</td>\n",
       "      <td>60.456768</td>\n",
       "      <td>6511200</td>\n",
       "      <td>46.225456</td>\n",
       "      <td>-19.169226</td>\n",
       "      <td>60.165797</td>\n",
       "      <td>-1.228240</td>\n",
       "      <td>0</td>\n",
       "      <td>-1</td>\n",
       "      <td>60.586098</td>\n",
       "    </tr>\n",
       "    <tr>\n",
       "      <th>4</th>\n",
       "      <td>2014-02-12 00:00:00-05:00</td>\n",
       "      <td>60.763913</td>\n",
       "      <td>59.987998</td>\n",
       "      <td>60.586098</td>\n",
       "      <td>5339800</td>\n",
       "      <td>47.689140</td>\n",
       "      <td>-14.057009</td>\n",
       "      <td>60.446003</td>\n",
       "      <td>-1.083315</td>\n",
       "      <td>0</td>\n",
       "      <td>-1</td>\n",
       "      <td>60.909386</td>\n",
       "    </tr>\n",
       "  </tbody>\n",
       "</table>\n",
       "</div>"
      ],
      "text/plain": [
       "                       Date       High        Low      Close   Volume  \\\n",
       "0 2014-02-06 00:00:00-05:00  59.171664  58.597811  58.856449  7353100   \n",
       "1 2014-02-07 00:00:00-05:00  59.648519  58.597798  59.608105  7287600   \n",
       "2 2014-02-10 00:00:00-05:00  59.616196  58.969597  59.616196  6204100   \n",
       "3 2014-02-11 00:00:00-05:00  60.497177  59.543447  60.456768  6511200   \n",
       "4 2014-02-12 00:00:00-05:00  60.763913  59.987998  60.586098  5339800   \n",
       "\n",
       "         RSI        WPR       VWAP      MACD  RSI_signal  WPR_signal  \\\n",
       "0  23.115414 -87.911787  58.875308 -1.566625           1           1   \n",
       "1  35.181908 -64.077874  59.284807 -1.472982           0           0   \n",
       "2  35.299618 -60.892198  59.400663 -1.382184           0           0   \n",
       "3  46.225456 -19.169226  60.165797 -1.228240           0          -1   \n",
       "4  47.689140 -14.057009  60.446003 -1.083315           0          -1   \n",
       "\n",
       "   TargetNextClose  \n",
       "0        59.608105  \n",
       "1        59.616196  \n",
       "2        60.456768  \n",
       "3        60.586098  \n",
       "4        60.909386  "
      ]
     },
     "execution_count": 7,
     "metadata": {},
     "output_type": "execute_result"
    }
   ],
   "source": [
    "data['TargetNextClose'] = data['Close'].shift(-1)\n",
    "data.dropna(inplace = True)\n",
    "data.reset_index(inplace = True)\n",
    "\n",
    "data.head()"
   ]
  },
  {
   "cell_type": "code",
   "execution_count": 8,
   "id": "eb9c7fed",
   "metadata": {},
   "outputs": [
    {
     "data": {
      "text/html": [
       "<div>\n",
       "<style scoped>\n",
       "    .dataframe tbody tr th:only-of-type {\n",
       "        vertical-align: middle;\n",
       "    }\n",
       "\n",
       "    .dataframe tbody tr th {\n",
       "        vertical-align: top;\n",
       "    }\n",
       "\n",
       "    .dataframe thead th {\n",
       "        text-align: right;\n",
       "    }\n",
       "</style>\n",
       "<table border=\"1\" class=\"dataframe\">\n",
       "  <thead>\n",
       "    <tr style=\"text-align: right;\">\n",
       "      <th></th>\n",
       "      <th>High</th>\n",
       "      <th>Low</th>\n",
       "      <th>Close</th>\n",
       "      <th>Volume</th>\n",
       "      <th>RSI</th>\n",
       "      <th>WPR</th>\n",
       "      <th>VWAP</th>\n",
       "      <th>MACD</th>\n",
       "      <th>RSI_signal</th>\n",
       "      <th>WPR_signal</th>\n",
       "      <th>TargetNextClose</th>\n",
       "    </tr>\n",
       "  </thead>\n",
       "  <tbody>\n",
       "    <tr>\n",
       "      <th>0</th>\n",
       "      <td>59.171664</td>\n",
       "      <td>58.597811</td>\n",
       "      <td>58.856449</td>\n",
       "      <td>7353100</td>\n",
       "      <td>23.115414</td>\n",
       "      <td>-87.911787</td>\n",
       "      <td>58.875308</td>\n",
       "      <td>-1.566625</td>\n",
       "      <td>1</td>\n",
       "      <td>1</td>\n",
       "      <td>59.608105</td>\n",
       "    </tr>\n",
       "    <tr>\n",
       "      <th>1</th>\n",
       "      <td>59.648519</td>\n",
       "      <td>58.597798</td>\n",
       "      <td>59.608105</td>\n",
       "      <td>7287600</td>\n",
       "      <td>35.181908</td>\n",
       "      <td>-64.077874</td>\n",
       "      <td>59.284807</td>\n",
       "      <td>-1.472982</td>\n",
       "      <td>0</td>\n",
       "      <td>0</td>\n",
       "      <td>59.616196</td>\n",
       "    </tr>\n",
       "    <tr>\n",
       "      <th>2</th>\n",
       "      <td>59.616196</td>\n",
       "      <td>58.969597</td>\n",
       "      <td>59.616196</td>\n",
       "      <td>6204100</td>\n",
       "      <td>35.299618</td>\n",
       "      <td>-60.892198</td>\n",
       "      <td>59.400663</td>\n",
       "      <td>-1.382184</td>\n",
       "      <td>0</td>\n",
       "      <td>0</td>\n",
       "      <td>60.456768</td>\n",
       "    </tr>\n",
       "    <tr>\n",
       "      <th>3</th>\n",
       "      <td>60.497177</td>\n",
       "      <td>59.543447</td>\n",
       "      <td>60.456768</td>\n",
       "      <td>6511200</td>\n",
       "      <td>46.225456</td>\n",
       "      <td>-19.169226</td>\n",
       "      <td>60.165797</td>\n",
       "      <td>-1.228240</td>\n",
       "      <td>0</td>\n",
       "      <td>-1</td>\n",
       "      <td>60.586098</td>\n",
       "    </tr>\n",
       "    <tr>\n",
       "      <th>4</th>\n",
       "      <td>60.763913</td>\n",
       "      <td>59.987998</td>\n",
       "      <td>60.586098</td>\n",
       "      <td>5339800</td>\n",
       "      <td>47.689140</td>\n",
       "      <td>-14.057009</td>\n",
       "      <td>60.446003</td>\n",
       "      <td>-1.083315</td>\n",
       "      <td>0</td>\n",
       "      <td>-1</td>\n",
       "      <td>60.909386</td>\n",
       "    </tr>\n",
       "  </tbody>\n",
       "</table>\n",
       "</div>"
      ],
      "text/plain": [
       "        High        Low      Close   Volume        RSI        WPR       VWAP  \\\n",
       "0  59.171664  58.597811  58.856449  7353100  23.115414 -87.911787  58.875308   \n",
       "1  59.648519  58.597798  59.608105  7287600  35.181908 -64.077874  59.284807   \n",
       "2  59.616196  58.969597  59.616196  6204100  35.299618 -60.892198  59.400663   \n",
       "3  60.497177  59.543447  60.456768  6511200  46.225456 -19.169226  60.165797   \n",
       "4  60.763913  59.987998  60.586098  5339800  47.689140 -14.057009  60.446003   \n",
       "\n",
       "       MACD  RSI_signal  WPR_signal  TargetNextClose  \n",
       "0 -1.566625           1           1        59.608105  \n",
       "1 -1.472982           0           0        59.616196  \n",
       "2 -1.382184           0           0        60.456768  \n",
       "3 -1.228240           0          -1        60.586098  \n",
       "4 -1.083315           0          -1        60.909386  "
      ]
     },
     "execution_count": 8,
     "metadata": {},
     "output_type": "execute_result"
    }
   ],
   "source": [
    "data_set = data.iloc[:, 1:12]\n",
    "\n",
    "pd.set_option('display.max_columns', None)\n",
    "\n",
    "data_set.head()"
   ]
  },
  {
   "cell_type": "markdown",
   "id": "401de029",
   "metadata": {},
   "source": [
    "## Feature Scaling"
   ]
  },
  {
   "cell_type": "markdown",
   "id": "f0b9d555",
   "metadata": {},
   "source": [
    "Since the model will be using a variety of data having different magnitude and scale, all the input variables will be normalised into a range of 0 to 1. This will assist the deep learning model during training as the gradient descent step will be faster. It will also help ensure that the training process does not fail due to problems such as exploding gradient."
   ]
  },
  {
   "cell_type": "code",
   "execution_count": 9,
   "id": "6be7f72a",
   "metadata": {},
   "outputs": [],
   "source": [
    "from sklearn.preprocessing import MinMaxScaler\n",
    "scaler_feature_train = MinMaxScaler(feature_range = (0, 1))\n",
    "scaler_feature_test = MinMaxScaler(feature_range = (0, 1))\n",
    "scaler_target_train = MinMaxScaler(feature_range = (0, 1))\n",
    "scaler_target_test = MinMaxScaler(feature_range = (0, 1))\n",
    "\n",
    "feature_set = data_set.drop(['TargetNextClose'], axis = 1)\n",
    "\n",
    "target_set = np.array(data_set['TargetNextClose']).reshape(-1, 1)"
   ]
  },
  {
   "cell_type": "code",
   "execution_count": 10,
   "id": "073a71ec",
   "metadata": {},
   "outputs": [],
   "source": [
    "splitlimit = int(len(feature_set) * 0.8)\n",
    "\n",
    "feature_set_train, feature_set_test = feature_set[:splitlimit], feature_set[splitlimit:]\n",
    "feature_set_train_scaled = scaler_feature_train.fit_transform(feature_set_train)\n",
    "feature_set_test_scaled = scaler_feature_test.fit_transform(feature_set_test)\n",
    "\n",
    "target_set_train, target_set_test = target_set[:splitlimit], target_set[splitlimit:]\n",
    "target_set_train_scaled = scaler_target_train.fit_transform(target_set_train)\n",
    "target_set_test_scaled = scaler_target_test.fit_transform(target_set_test)"
   ]
  },
  {
   "cell_type": "markdown",
   "id": "68ff8fb3",
   "metadata": {},
   "source": [
    "## Constructing the dataset\n",
    "\n"
   ]
  },
  {
   "cell_type": "markdown",
   "id": "d6dd7897",
   "metadata": {},
   "source": [
    "Input data to the network will be a series of dataframes having the feature data over a lookback period of 14 days. The lookback window will roll over the entire data time period and will be used to predict the Close price of the next day."
   ]
  },
  {
   "cell_type": "code",
   "execution_count": 11,
   "id": "4c751897",
   "metadata": {},
   "outputs": [
    {
     "name": "stdout",
     "output_type": "stream",
     "text": [
      "(1978, 14, 10)\n",
      "(485, 14, 10)\n",
      "(1978, 1)\n",
      "(485, 1)\n"
     ]
    }
   ],
   "source": [
    "X_train = []\n",
    "\n",
    "backcandles = 14\n",
    "features = 10\n",
    "\n",
    "for i in range(features):\n",
    "    X_train.append([])\n",
    "\n",
    "    for j in range(backcandles, feature_set_train_scaled.shape[0]):\n",
    "        X_train[i].append(feature_set_train_scaled[j-backcandles: j, i])\n",
    "\n",
    "X_train = np.moveaxis(X_train, [0], [2])\n",
    "\n",
    "X_test = []\n",
    "\n",
    "for i in range(features):\n",
    "    X_test.append([])\n",
    "\n",
    "    for j in range(backcandles, feature_set_test_scaled.shape[0]):\n",
    "        X_test[i].append(feature_set_test_scaled[j-backcandles: j, i])\n",
    "\n",
    "X_test = np.moveaxis(X_test, [0], [2])\n",
    "\n",
    "X_train, X_test = np.array(X_train), np.array(X_test)\n",
    "Yi, Yj = np.array(target_set_train_scaled[backcandles:]), np.array(target_set_test_scaled[backcandles:]),\n",
    "Y_train, Y_test = np.reshape(Yi, (len(Yi), 1)), np.reshape(Yj, (len(Yj), 1))\n",
    "\n",
    "print(X_train.shape)\n",
    "print(X_test.shape)\n",
    "print(Y_train.shape)\n",
    "print(Y_test.shape)"
   ]
  },
  {
   "cell_type": "markdown",
   "id": "c19beb52",
   "metadata": {},
   "source": [
    "## Building and training the LSTM neural network"
   ]
  },
  {
   "cell_type": "code",
   "execution_count": 12,
   "id": "19b3f735",
   "metadata": {
    "scrolled": true
   },
   "outputs": [
    {
     "name": "stderr",
     "output_type": "stream",
     "text": [
      "WARNING:absl:At this time, the v2.11+ optimizer `tf.keras.optimizers.Adam` runs slowly on M1/M2 Macs, please use the legacy Keras optimizer instead, located at `tf.keras.optimizers.legacy.Adam`.\n",
      "WARNING:absl:There is a known slowdown when using v2.11+ Keras optimizers on M1/M2 Macs. Falling back to the legacy Keras optimizer, i.e., `tf.keras.optimizers.legacy.Adam`.\n"
     ]
    },
    {
     "name": "stdout",
     "output_type": "stream",
     "text": [
      "Epoch 1/100\n",
      "132/132 [==============================] - 3s 9ms/step - loss: 0.0568 - mae: 0.0651 - val_loss: 0.0367 - val_mae: 0.0659\n",
      "Epoch 2/100\n",
      "132/132 [==============================] - 1s 7ms/step - loss: 0.0242 - mae: 0.0414 - val_loss: 0.0210 - val_mae: 0.0552\n",
      "Epoch 3/100\n",
      "132/132 [==============================] - 1s 7ms/step - loss: 0.0153 - mae: 0.0427 - val_loss: 0.0147 - val_mae: 0.0532\n",
      "Epoch 4/100\n",
      "132/132 [==============================] - 1s 7ms/step - loss: 0.0099 - mae: 0.0378 - val_loss: 0.0118 - val_mae: 0.0544\n",
      "Epoch 5/100\n",
      "132/132 [==============================] - 1s 8ms/step - loss: 0.0074 - mae: 0.0364 - val_loss: 0.0093 - val_mae: 0.0508\n",
      "Epoch 6/100\n",
      "132/132 [==============================] - 1s 7ms/step - loss: 0.0060 - mae: 0.0366 - val_loss: 0.0090 - val_mae: 0.0573\n",
      "Epoch 7/100\n",
      "132/132 [==============================] - 1s 8ms/step - loss: 0.0050 - mae: 0.0362 - val_loss: 0.0076 - val_mae: 0.0507\n",
      "Epoch 8/100\n",
      "132/132 [==============================] - 1s 9ms/step - loss: 0.0042 - mae: 0.0339 - val_loss: 0.0074 - val_mae: 0.0539\n",
      "Epoch 9/100\n",
      "132/132 [==============================] - 1s 9ms/step - loss: 0.0040 - mae: 0.0353 - val_loss: 0.0072 - val_mae: 0.0536\n",
      "Epoch 10/100\n",
      "132/132 [==============================] - 1s 9ms/step - loss: 0.0035 - mae: 0.0338 - val_loss: 0.0066 - val_mae: 0.0504\n",
      "Epoch 11/100\n",
      "132/132 [==============================] - 1s 8ms/step - loss: 0.0036 - mae: 0.0362 - val_loss: 0.0064 - val_mae: 0.0501\n",
      "Epoch 12/100\n",
      "132/132 [==============================] - 1s 8ms/step - loss: 0.0027 - mae: 0.0307 - val_loss: 0.0074 - val_mae: 0.0572\n",
      "Epoch 13/100\n",
      "132/132 [==============================] - 1s 8ms/step - loss: 0.0031 - mae: 0.0338 - val_loss: 0.0067 - val_mae: 0.0557\n",
      "Epoch 14/100\n",
      "132/132 [==============================] - 1s 8ms/step - loss: 0.0028 - mae: 0.0323 - val_loss: 0.0076 - val_mae: 0.0602\n",
      "Epoch 15/100\n",
      "132/132 [==============================] - 1s 7ms/step - loss: 0.0027 - mae: 0.0319 - val_loss: 0.0066 - val_mae: 0.0541\n",
      "Epoch 16/100\n",
      "132/132 [==============================] - 1s 7ms/step - loss: 0.0024 - mae: 0.0318 - val_loss: 0.0070 - val_mae: 0.0614\n",
      "Epoch 17/100\n",
      "132/132 [==============================] - 1s 7ms/step - loss: 0.0024 - mae: 0.0306 - val_loss: 0.0056 - val_mae: 0.0493\n",
      "Epoch 18/100\n",
      "132/132 [==============================] - 1s 7ms/step - loss: 0.0027 - mae: 0.0325 - val_loss: 0.0059 - val_mae: 0.0505\n",
      "Epoch 19/100\n",
      "132/132 [==============================] - 1s 7ms/step - loss: 0.0027 - mae: 0.0326 - val_loss: 0.0057 - val_mae: 0.0495\n",
      "Epoch 20/100\n",
      "132/132 [==============================] - 1s 7ms/step - loss: 0.0023 - mae: 0.0316 - val_loss: 0.0068 - val_mae: 0.0583\n",
      "Epoch 21/100\n",
      "132/132 [==============================] - 1s 7ms/step - loss: 0.0024 - mae: 0.0317 - val_loss: 0.0056 - val_mae: 0.0494\n",
      "Epoch 22/100\n",
      "132/132 [==============================] - 1s 7ms/step - loss: 0.0023 - mae: 0.0314 - val_loss: 0.0056 - val_mae: 0.0513\n",
      "Epoch 23/100\n",
      "132/132 [==============================] - 1s 7ms/step - loss: 0.0023 - mae: 0.0314 - val_loss: 0.0053 - val_mae: 0.0477\n",
      "Epoch 24/100\n",
      "132/132 [==============================] - 1s 7ms/step - loss: 0.0022 - mae: 0.0310 - val_loss: 0.0060 - val_mae: 0.0527\n",
      "Epoch 25/100\n",
      "132/132 [==============================] - 1s 8ms/step - loss: 0.0022 - mae: 0.0307 - val_loss: 0.0054 - val_mae: 0.0485\n",
      "Epoch 26/100\n",
      "132/132 [==============================] - 1s 8ms/step - loss: 0.0019 - mae: 0.0291 - val_loss: 0.0054 - val_mae: 0.0496\n",
      "Epoch 27/100\n",
      "132/132 [==============================] - 1s 8ms/step - loss: 0.0020 - mae: 0.0302 - val_loss: 0.0048 - val_mae: 0.0460\n",
      "Epoch 28/100\n",
      "132/132 [==============================] - 1s 8ms/step - loss: 0.0022 - mae: 0.0308 - val_loss: 0.0053 - val_mae: 0.0480\n",
      "Epoch 29/100\n",
      "132/132 [==============================] - 1s 8ms/step - loss: 0.0019 - mae: 0.0292 - val_loss: 0.0053 - val_mae: 0.0490\n",
      "Epoch 30/100\n",
      "132/132 [==============================] - 1s 9ms/step - loss: 0.0019 - mae: 0.0293 - val_loss: 0.0054 - val_mae: 0.0487\n",
      "Epoch 31/100\n",
      "132/132 [==============================] - 1s 8ms/step - loss: 0.0019 - mae: 0.0294 - val_loss: 0.0052 - val_mae: 0.0474\n",
      "Epoch 32/100\n",
      "132/132 [==============================] - 1s 8ms/step - loss: 0.0019 - mae: 0.0288 - val_loss: 0.0053 - val_mae: 0.0488\n",
      "Epoch 33/100\n",
      "132/132 [==============================] - 1s 8ms/step - loss: 0.0020 - mae: 0.0305 - val_loss: 0.0049 - val_mae: 0.0462\n",
      "Epoch 34/100\n",
      "132/132 [==============================] - 1s 8ms/step - loss: 0.0019 - mae: 0.0297 - val_loss: 0.0051 - val_mae: 0.0489\n",
      "Epoch 35/100\n",
      "132/132 [==============================] - 1s 8ms/step - loss: 0.0019 - mae: 0.0295 - val_loss: 0.0047 - val_mae: 0.0452\n",
      "Epoch 36/100\n",
      "132/132 [==============================] - 1s 8ms/step - loss: 0.0019 - mae: 0.0293 - val_loss: 0.0059 - val_mae: 0.0535\n",
      "Epoch 37/100\n",
      "132/132 [==============================] - 1s 8ms/step - loss: 0.0017 - mae: 0.0278 - val_loss: 0.0050 - val_mae: 0.0480\n",
      "Epoch 38/100\n",
      "132/132 [==============================] - 1s 8ms/step - loss: 0.0018 - mae: 0.0293 - val_loss: 0.0049 - val_mae: 0.0472\n",
      "Epoch 39/100\n",
      "132/132 [==============================] - 1s 8ms/step - loss: 0.0020 - mae: 0.0299 - val_loss: 0.0057 - val_mae: 0.0550\n",
      "Epoch 40/100\n",
      "132/132 [==============================] - 1s 8ms/step - loss: 0.0020 - mae: 0.0302 - val_loss: 0.0056 - val_mae: 0.0542\n",
      "Epoch 41/100\n",
      "132/132 [==============================] - 1s 8ms/step - loss: 0.0018 - mae: 0.0291 - val_loss: 0.0048 - val_mae: 0.0468\n",
      "Epoch 42/100\n",
      "132/132 [==============================] - 1s 8ms/step - loss: 0.0020 - mae: 0.0303 - val_loss: 0.0070 - val_mae: 0.0610\n",
      "Epoch 43/100\n",
      "132/132 [==============================] - 1s 8ms/step - loss: 0.0019 - mae: 0.0296 - val_loss: 0.0048 - val_mae: 0.0476\n",
      "Epoch 44/100\n",
      "132/132 [==============================] - 1s 8ms/step - loss: 0.0019 - mae: 0.0298 - val_loss: 0.0046 - val_mae: 0.0448\n",
      "Epoch 45/100\n",
      "132/132 [==============================] - 1s 8ms/step - loss: 0.0020 - mae: 0.0301 - val_loss: 0.0046 - val_mae: 0.0448\n",
      "Epoch 46/100\n",
      "132/132 [==============================] - 1s 8ms/step - loss: 0.0019 - mae: 0.0292 - val_loss: 0.0047 - val_mae: 0.0458\n",
      "Epoch 47/100\n",
      "132/132 [==============================] - 1s 8ms/step - loss: 0.0017 - mae: 0.0282 - val_loss: 0.0046 - val_mae: 0.0455\n",
      "Epoch 48/100\n",
      "132/132 [==============================] - 1s 8ms/step - loss: 0.0018 - mae: 0.0289 - val_loss: 0.0050 - val_mae: 0.0498\n",
      "Epoch 49/100\n",
      "132/132 [==============================] - 1s 8ms/step - loss: 0.0018 - mae: 0.0291 - val_loss: 0.0052 - val_mae: 0.0499\n",
      "Epoch 50/100\n",
      "132/132 [==============================] - 1s 8ms/step - loss: 0.0018 - mae: 0.0283 - val_loss: 0.0045 - val_mae: 0.0452\n",
      "Epoch 51/100\n",
      "132/132 [==============================] - 1s 8ms/step - loss: 0.0018 - mae: 0.0292 - val_loss: 0.0046 - val_mae: 0.0471\n",
      "Epoch 52/100\n",
      "132/132 [==============================] - 1s 8ms/step - loss: 0.0019 - mae: 0.0295 - val_loss: 0.0044 - val_mae: 0.0447\n",
      "Epoch 53/100\n",
      "132/132 [==============================] - 1s 8ms/step - loss: 0.0017 - mae: 0.0286 - val_loss: 0.0045 - val_mae: 0.0451\n",
      "Epoch 54/100\n",
      "132/132 [==============================] - 1s 8ms/step - loss: 0.0016 - mae: 0.0275 - val_loss: 0.0045 - val_mae: 0.0449\n",
      "Epoch 55/100\n",
      "132/132 [==============================] - 1s 8ms/step - loss: 0.0018 - mae: 0.0287 - val_loss: 0.0044 - val_mae: 0.0441\n",
      "Epoch 56/100\n",
      "132/132 [==============================] - 1s 8ms/step - loss: 0.0018 - mae: 0.0286 - val_loss: 0.0043 - val_mae: 0.0439\n",
      "Epoch 57/100\n",
      "132/132 [==============================] - 1s 8ms/step - loss: 0.0019 - mae: 0.0299 - val_loss: 0.0053 - val_mae: 0.0536\n",
      "Epoch 58/100\n",
      "132/132 [==============================] - 1s 8ms/step - loss: 0.0019 - mae: 0.0295 - val_loss: 0.0045 - val_mae: 0.0454\n",
      "Epoch 59/100\n",
      "132/132 [==============================] - 1s 8ms/step - loss: 0.0018 - mae: 0.0284 - val_loss: 0.0045 - val_mae: 0.0456\n",
      "Epoch 60/100\n",
      "132/132 [==============================] - 1s 8ms/step - loss: 0.0018 - mae: 0.0288 - val_loss: 0.0044 - val_mae: 0.0450\n",
      "Epoch 61/100\n",
      "132/132 [==============================] - 1s 8ms/step - loss: 0.0017 - mae: 0.0284 - val_loss: 0.0046 - val_mae: 0.0458\n",
      "Epoch 62/100\n"
     ]
    },
    {
     "name": "stdout",
     "output_type": "stream",
     "text": [
      "132/132 [==============================] - 1s 8ms/step - loss: 0.0018 - mae: 0.0286 - val_loss: 0.0043 - val_mae: 0.0439\n",
      "Epoch 63/100\n",
      "132/132 [==============================] - 1s 8ms/step - loss: 0.0017 - mae: 0.0275 - val_loss: 0.0045 - val_mae: 0.0448\n",
      "Epoch 64/100\n",
      "132/132 [==============================] - 1s 8ms/step - loss: 0.0017 - mae: 0.0284 - val_loss: 0.0044 - val_mae: 0.0451\n",
      "Epoch 65/100\n",
      "132/132 [==============================] - 1s 7ms/step - loss: 0.0018 - mae: 0.0296 - val_loss: 0.0046 - val_mae: 0.0459\n",
      "Epoch 66/100\n",
      "132/132 [==============================] - 1s 7ms/step - loss: 0.0020 - mae: 0.0305 - val_loss: 0.0045 - val_mae: 0.0453\n",
      "Epoch 67/100\n",
      "132/132 [==============================] - 1s 7ms/step - loss: 0.0018 - mae: 0.0285 - val_loss: 0.0042 - val_mae: 0.0438\n",
      "Epoch 68/100\n",
      "132/132 [==============================] - 1s 7ms/step - loss: 0.0017 - mae: 0.0277 - val_loss: 0.0044 - val_mae: 0.0448\n",
      "Epoch 69/100\n",
      "132/132 [==============================] - 1s 8ms/step - loss: 0.0017 - mae: 0.0284 - val_loss: 0.0043 - val_mae: 0.0438\n",
      "Epoch 70/100\n",
      "132/132 [==============================] - 1s 8ms/step - loss: 0.0019 - mae: 0.0286 - val_loss: 0.0043 - val_mae: 0.0436\n",
      "Epoch 71/100\n",
      "132/132 [==============================] - 1s 9ms/step - loss: 0.0017 - mae: 0.0280 - val_loss: 0.0043 - val_mae: 0.0439\n",
      "Epoch 72/100\n",
      "132/132 [==============================] - 1s 9ms/step - loss: 0.0017 - mae: 0.0281 - val_loss: 0.0043 - val_mae: 0.0435\n",
      "Epoch 73/100\n",
      "132/132 [==============================] - 1s 8ms/step - loss: 0.0016 - mae: 0.0279 - val_loss: 0.0043 - val_mae: 0.0442\n",
      "Epoch 74/100\n",
      "132/132 [==============================] - 1s 8ms/step - loss: 0.0016 - mae: 0.0279 - val_loss: 0.0044 - val_mae: 0.0447\n",
      "Epoch 75/100\n",
      "132/132 [==============================] - 1s 8ms/step - loss: 0.0017 - mae: 0.0281 - val_loss: 0.0043 - val_mae: 0.0448\n",
      "Epoch 76/100\n",
      "132/132 [==============================] - 1s 8ms/step - loss: 0.0016 - mae: 0.0270 - val_loss: 0.0046 - val_mae: 0.0458\n",
      "Epoch 77/100\n",
      "132/132 [==============================] - 1s 8ms/step - loss: 0.0016 - mae: 0.0275 - val_loss: 0.0041 - val_mae: 0.0429\n",
      "Epoch 78/100\n",
      "132/132 [==============================] - 1s 8ms/step - loss: 0.0016 - mae: 0.0275 - val_loss: 0.0042 - val_mae: 0.0432\n",
      "Epoch 79/100\n",
      "132/132 [==============================] - 1s 8ms/step - loss: 0.0017 - mae: 0.0284 - val_loss: 0.0045 - val_mae: 0.0456\n",
      "Epoch 80/100\n",
      "132/132 [==============================] - 1s 8ms/step - loss: 0.0018 - mae: 0.0287 - val_loss: 0.0046 - val_mae: 0.0477\n",
      "Epoch 81/100\n",
      "132/132 [==============================] - 1s 8ms/step - loss: 0.0017 - mae: 0.0277 - val_loss: 0.0043 - val_mae: 0.0458\n",
      "Epoch 82/100\n",
      "132/132 [==============================] - 1s 8ms/step - loss: 0.0018 - mae: 0.0290 - val_loss: 0.0043 - val_mae: 0.0443\n",
      "Epoch 83/100\n",
      "132/132 [==============================] - 1s 8ms/step - loss: 0.0016 - mae: 0.0269 - val_loss: 0.0043 - val_mae: 0.0444\n",
      "Epoch 84/100\n",
      "132/132 [==============================] - 1s 7ms/step - loss: 0.0015 - mae: 0.0270 - val_loss: 0.0044 - val_mae: 0.0460\n",
      "Epoch 85/100\n",
      "132/132 [==============================] - 1s 7ms/step - loss: 0.0018 - mae: 0.0284 - val_loss: 0.0040 - val_mae: 0.0426\n",
      "Epoch 86/100\n",
      "132/132 [==============================] - 1s 8ms/step - loss: 0.0017 - mae: 0.0278 - val_loss: 0.0045 - val_mae: 0.0470\n",
      "Epoch 87/100\n",
      "132/132 [==============================] - 1s 7ms/step - loss: 0.0017 - mae: 0.0283 - val_loss: 0.0045 - val_mae: 0.0461\n",
      "Epoch 88/100\n",
      "132/132 [==============================] - 1s 7ms/step - loss: 0.0016 - mae: 0.0274 - val_loss: 0.0042 - val_mae: 0.0435\n",
      "Epoch 89/100\n",
      "132/132 [==============================] - 1s 8ms/step - loss: 0.0018 - mae: 0.0282 - val_loss: 0.0045 - val_mae: 0.0457\n",
      "Epoch 90/100\n",
      "132/132 [==============================] - 1s 8ms/step - loss: 0.0016 - mae: 0.0271 - val_loss: 0.0042 - val_mae: 0.0440\n",
      "Epoch 91/100\n",
      "132/132 [==============================] - 1s 8ms/step - loss: 0.0015 - mae: 0.0270 - val_loss: 0.0041 - val_mae: 0.0432\n",
      "Epoch 92/100\n",
      "132/132 [==============================] - 1s 8ms/step - loss: 0.0016 - mae: 0.0275 - val_loss: 0.0041 - val_mae: 0.0433\n",
      "Epoch 93/100\n",
      "132/132 [==============================] - 1s 8ms/step - loss: 0.0016 - mae: 0.0277 - val_loss: 0.0043 - val_mae: 0.0442\n",
      "Epoch 94/100\n",
      "132/132 [==============================] - 1s 8ms/step - loss: 0.0017 - mae: 0.0280 - val_loss: 0.0041 - val_mae: 0.0436\n",
      "Epoch 95/100\n",
      "132/132 [==============================] - 1s 8ms/step - loss: 0.0018 - mae: 0.0277 - val_loss: 0.0043 - val_mae: 0.0447\n",
      "16/16 [==============================] - 0s 3ms/step - loss: 0.0040 - mae: 0.0426\n",
      "Test Loss: 0.00400117039680481, Test MAE: 0.04262230917811394\n"
     ]
    }
   ],
   "source": [
    "# Define your model\n",
    "import tensorflow as tf\n",
    "from tensorflow import keras\n",
    "\n",
    "# Define your model\n",
    "lstm_input = keras.layers.Input(shape=(backcandles, features), name='lstm_input')\n",
    "lstm1 = keras.layers.LSTM(100, return_sequences=True, name='firstLSTM_layer')(lstm_input)\n",
    "lstm2 = keras.layers.LSTM(75, name='secondLSTM_layer')(lstm1)\n",
    "dense = keras.layers.Dense(64, activation='relu', kernel_regularizer=keras.regularizers.l2(0.001))(lstm2)\n",
    "dropout = keras.layers.Dropout(0.2)(dense)\n",
    "out = keras.layers.Dense(1, name='output')(dropout)\n",
    "\n",
    "model = keras.models.Model(inputs=lstm_input, outputs=out)\n",
    "\n",
    "# Compile the model with learning rate scheduling\n",
    "initial_learning_rate = 0.001\n",
    "lr_schedule = keras.optimizers.schedules.ExponentialDecay(\n",
    "    initial_learning_rate, decay_steps=1000, decay_rate=0.9, staircase=True\n",
    ")\n",
    "adam = keras.optimizers.Adam(learning_rate=lr_schedule)\n",
    "\n",
    "model.compile(optimizer=adam, loss='mse', metrics=['mae'])\n",
    "\n",
    "# Train the model with early stopping\n",
    "early_stopping = keras.callbacks.EarlyStopping(patience=10, restore_best_weights=True)\n",
    "\n",
    "model.fit(x=X_train, y=Y_train, batch_size=15, epochs=100, shuffle=True, validation_data=(X_test, Y_test), callbacks=[early_stopping])\n",
    "\n",
    "# Evaluate the model on test data\n",
    "loss, mae = model.evaluate(x=X_test, y=Y_test)\n",
    "print(f\"Test Loss: {loss}, Test MAE: {mae}\")\n",
    "\n",
    "\n",
    "\n"
   ]
  },
  {
   "cell_type": "code",
   "execution_count": 13,
   "id": "a8a16856",
   "metadata": {
    "scrolled": true
   },
   "outputs": [
    {
     "name": "stdout",
     "output_type": "stream",
     "text": [
      "Model: \"model\"\n",
      "_________________________________________________________________\n",
      " Layer (type)                Output Shape              Param #   \n",
      "=================================================================\n",
      " lstm_input (InputLayer)     [(None, 14, 10)]          0         \n",
      "                                                                 \n",
      " firstLSTM_layer (LSTM)      (None, 14, 100)           44400     \n",
      "                                                                 \n",
      " secondLSTM_layer (LSTM)     (None, 75)                52800     \n",
      "                                                                 \n",
      " dense (Dense)               (None, 64)                4864      \n",
      "                                                                 \n",
      " dropout (Dropout)           (None, 64)                0         \n",
      "                                                                 \n",
      " output (Dense)              (None, 1)                 65        \n",
      "                                                                 \n",
      "=================================================================\n",
      "Total params: 102129 (398.94 KB)\n",
      "Trainable params: 102129 (398.94 KB)\n",
      "Non-trainable params: 0 (0.00 Byte)\n",
      "_________________________________________________________________\n"
     ]
    }
   ],
   "source": [
    "model.summary()"
   ]
  },
  {
   "cell_type": "markdown",
   "id": "45625f0b",
   "metadata": {},
   "source": [
    "## Test Data Predictions"
   ]
  },
  {
   "cell_type": "code",
   "execution_count": 14,
   "id": "6c2aa3e9",
   "metadata": {
    "scrolled": true
   },
   "outputs": [
    {
     "name": "stdout",
     "output_type": "stream",
     "text": [
      "16/16 [==============================] - 0s 3ms/step\n"
     ]
    }
   ],
   "source": [
    "Y_pred = model.predict(X_test)"
   ]
  },
  {
   "cell_type": "markdown",
   "id": "88128eeb",
   "metadata": {},
   "source": [
    "## Predicted price vs Actual price"
   ]
  },
  {
   "cell_type": "code",
   "execution_count": 15,
   "id": "123f4c26",
   "metadata": {
    "scrolled": false
   },
   "outputs": [
    {
     "data": {
      "image/png": "[encoded data removed]",
      "text/plain": [
       "<Figure size 1000x600 with 1 Axes>"
      ]
     },
     "metadata": {},
     "output_type": "display_data"
    }
   ],
   "source": [
    "import matplotlib.pyplot as plt\n",
    "\n",
    "# Inverse transform the scaled predictions to the original scale\n",
    "Y_test_prices = scaler_target_test.inverse_transform(Y_test)\n",
    "Y_pred_prices = scaler_target_test.inverse_transform(Y_pred)\n",
    "\n",
    "# Plot the actual and predicted stock prices\n",
    "plt.figure(figsize=(10, 6))\n",
    "plt.plot(Y_test_prices, color='black', label='Actual price')\n",
    "plt.plot(Y_pred_prices, color='green', label='Predicted price')\n",
    "plt.legend()\n",
    "plt.show()"
   ]
  },
  {
   "cell_type": "markdown",
   "id": "52c03301",
   "metadata": {},
   "source": [
    "## Evaluation Metrics"
   ]
  },
  {
   "cell_type": "markdown",
   "id": "46e246cb",
   "metadata": {},
   "source": [
    "Following evaluation metrics are used to analyse the performance of the model:\n",
    "\n",
    "1) Correlation\n",
    "2) Cointegration test\n",
    "3) Root mean square error (RMSE)"
   ]
  },
  {
   "cell_type": "markdown",
   "id": "26f106ae",
   "metadata": {},
   "source": [
    "## Root Mean Square Error (RMSE)"
   ]
  },
  {
   "cell_type": "markdown",
   "id": "9e9fa9ed",
   "metadata": {},
   "source": [
    "## 1) Correlation"
   ]
  },
  {
   "cell_type": "code",
   "execution_count": 16,
   "id": "efd6be24",
   "metadata": {},
   "outputs": [
    {
     "name": "stdout",
     "output_type": "stream",
     "text": [
      "Correlation between actual and predicted values: 0.9640677749415191\n"
     ]
    }
   ],
   "source": [
    "predicted_values = Y_pred.ravel()\n",
    "actual_values = Y_test.ravel()\n",
    "correlation = np.corrcoef(actual_values, predicted_values)[0, 1]\n",
    "print(\"Correlation between actual and predicted values:\", correlation)"
   ]
  },
  {
   "cell_type": "markdown",
   "id": "993ee47c",
   "metadata": {},
   "source": [
    "## 2) Cointegration Test"
   ]
  },
  {
   "cell_type": "code",
   "execution_count": null,
   "id": "f221f7c7",
   "metadata": {
    "collapsed": true
   },
   "outputs": [],
   "source": [
    "import numpy as np\n",
    "import statsmodels.tsa.stattools as ts\n",
    "\n",
    "# Performing the cointegration test\n",
    "coint_result = ts.coint(Y_test_prices[0], Y_pred_prices[0], trend='c') \n",
    "\n",
    "# Specifying the trend parameter as 'c' (constant) or 'ct' (constant and trend)\n",
    "p_val = coint_result[1]\n",
    "\n",
    "print(\"P-Value for the cointegration test:\")\n",
    "print(np.round(p_val, 1000))\n"
   ]
  },
  {
   "cell_type": "markdown",
   "id": "a0657815",
   "metadata": {},
   "source": [
    "The cointegration test results in a P-value which is practically 0 as \"float division by zero\" is coming. This indicates that the time series of the predicted prices and the actual prices are highly cointegration i.e they show a strong positive correlation over their duration"
   ]
  },
  {
   "cell_type": "markdown",
   "id": "71912125",
   "metadata": {},
   "source": [
    "## 3) Root Mean Square Error (RMSE)¶"
   ]
  },
  {
   "cell_type": "code",
   "execution_count": 18,
   "id": "7eb47737",
   "metadata": {},
   "outputs": [
    {
     "name": "stdout",
     "output_type": "stream",
     "text": [
      "Root Mean Square Error (RMSE) = 4.6 %\n"
     ]
    }
   ],
   "source": [
    "rmse = np.round(np.sqrt(np.mean(((Y_test_prices[0] - Y_pred_prices[0])/Y_test_prices[0])**2)), 3)\n",
    "print(\"Root Mean Square Error (RMSE) =\", np.round(rmse*100, 3), \"%\")"
   ]
  }
 ],
 "metadata": {
  "kernelspec": {
   "display_name": "Python 3 (ipykernel)",
   "language": "python",
   "name": "python3"
  },
  "language_info": {
   "codemirror_mode": {
    "name": "ipython",
    "version": 3
   },
   "file_extension": ".py",
   "mimetype": "text/x-python",
   "name": "python",
   "nbconvert_exporter": "python",
   "pygments_lexer": "ipython3",
   "version": "3.10.13"
  }
 },
 "nbformat": 4,
 "nbformat_minor": 5
}
